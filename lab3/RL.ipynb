{
  "nbformat": 4,
  "nbformat_minor": 0,
  "metadata": {
    "colab": {
      "name": "RL.ipynb",
      "provenance": [],
      "collapsed_sections": [
        "jrI6q7RmWQam"
      ]
    },
    "kernelspec": {
      "name": "python3",
      "display_name": "Python 3"
    },
    "accelerator": "GPU"
  },
  "cells": [
    {
      "cell_type": "markdown",
      "metadata": {
        "id": "jrI6q7RmWQam"
      },
      "source": [
        "<table align=\"center\">\n",
        "  <td align=\"center\"><a target=\"_blank\" href=\"http://introtodeeplearning.com\">\n",
        "        <img src=\"http://introtodeeplearning.com/images/colab/mit.png\" style=\"padding-bottom:5px;\" />\n",
        "      Visit MIT Deep Learning</a></td>\n",
        "  <td align=\"center\"><a target=\"_blank\" href=\"https://colab.research.google.com/github/aamini/introtodeeplearning/blob/master/lab3/RL.ipynb\">\n",
        "        <img src=\"http://introtodeeplearning.com/images/colab/colab.png?v2.0\"  style=\"padding-bottom:5px;\" />Run in Google Colab</a></td>\n",
        "  <td align=\"center\"><a target=\"_blank\" href=\"https://github.com/aamini/introtodeeplearning/blob/master/lab3/RL.ipynb\">\n",
        "        <img src=\"http://introtodeeplearning.com/images/colab/github.png\"  height=\"70px\" style=\"padding-bottom:5px;\"  />View Source on GitHub</a></td>\n",
        "</table>\n",
        "\n",
        "# Copyright Information"
      ]
    },
    {
      "cell_type": "code",
      "metadata": {
        "id": "wkd375upWYok"
      },
      "source": [
        "# Copyright 2020 MIT 6.S191 Introduction to Deep Learning. All Rights Reserved.\n",
        "# \n",
        "# Licensed under the MIT License. You may not use this file except in compliance\n",
        "# with the License. Use and/or modification of this code outside of 6.S191 must\n",
        "# reference:\n",
        "#\n",
        "# © MIT 6.S191: Introduction to Deep Learning\n",
        "# http://introtodeeplearning.com\n",
        "#"
      ],
      "execution_count": 1,
      "outputs": []
    },
    {
      "cell_type": "markdown",
      "metadata": {
        "id": "WoXYKhfZMHiw"
      },
      "source": [
        "# Laboratory 3: Reinforcement Learning\n",
        "\n",
        "Reinforcement learning (RL) is a subset of machine learning which poses learning problems as interactions between agents and environments. It often assumes agents have no prior knowledge of a world, so they must learn to navigate environments by optimizing a reward function. Within an environment, an agent can take certain actions and receive feedback, in the form of positive or negative rewards, with respect to their decision. As such, an agent's feedback loop is somewhat akin to the idea of \"trial and error\", or the manner in which a child might learn to distinguish between \"good\" and \"bad\" actions.\n",
        "\n",
        "In practical terms, our RL agent will interact with the environment by taking an action at each timestep, receiving a corresponding reward, and updating its state according to what it has \"learned\".  \n",
        "\n",
        "![alt text](https://www.kdnuggets.com/images/reinforcement-learning-fig1-700.jpg)\n",
        "\n",
        "While the ultimate goal of reinforcement learning is to teach agents to act in the real, physical world, games provide a convenient proving ground for developing RL algorithms and agents. Games have some properties that make them particularly well suited for RL: \n",
        "\n",
        "1.   In many cases, games have perfectly describable environments. For example, all rules of chess can be formally written and programmed into a chess game simulator;\n",
        "2.   Games are massively parallelizable. Since they do not require running in the real world, simultaneous environments can be run on large data clusters; \n",
        "3.   Simpler scenarios in games enable fast prototyping. This speeds up the development of algorithms that could eventually run in the real-world; and\n",
        "4.   ... Games are fun! \n",
        "\n",
        "In previous labs, we have explored both supervised (with LSTMs, CNNs) and unsupervised / semi-supervised (with VAEs) learning tasks. Reinforcement learning is fundamentally different, in that we are training a deep learning algorithm to govern the actions of our RL agent, that is trying, within its environment, to find the optimal way to achieve a goal. The goal of training an RL agent is to determine the best next step to take to earn the greatest final payoff or return. In this lab, we focus on building a reinforcement learning algorithm to master two different environments with varying complexity. \n",
        "\n",
        "1.   **Cartpole**:   Balance a pole, protruding from a cart, in an upright position by only moving the base left or right. Environment with a low-dimensional observation space.\n",
        "2.   [**Pong**](https://en.wikipedia.org/wiki/Pong): Beat your competitors (whether other AI or humans!) at the game of Pong. Environment with a high-dimensional observation space -- learning directly from raw pixels.\n",
        "\n",
        "Let's get started! First we'll import TensorFlow, the course package, and some dependencies.\n"
      ]
    },
    {
      "cell_type": "code",
      "metadata": {
        "id": "EvdePP-VyVWp",
        "colab": {
          "base_uri": "https://localhost:8080/"
        },
        "outputId": "81165cd9-32dc-4d12-b438-98865836240e"
      },
      "source": [
        "!apt-get install -y xvfb python-opengl x11-utils > /dev/null 2>&1\n",
        "!pip install gym pyvirtualdisplay scikit-video > /dev/null 2>&1\n",
        "\n",
        "%tensorflow_version 2.x\n",
        "import tensorflow as tf\n",
        "\n",
        "import numpy as np\n",
        "import base64, io, time, gym\n",
        "import IPython, functools\n",
        "import matplotlib.pyplot as plt\n",
        "from tqdm import tqdm\n",
        "\n",
        "!pip install mitdeeplearning\n",
        "import mitdeeplearning as mdl"
      ],
      "execution_count": 2,
      "outputs": [
        {
          "output_type": "stream",
          "text": [
            "Collecting mitdeeplearning\n",
            "\u001b[?25l  Downloading https://files.pythonhosted.org/packages/8b/3b/b9174b68dc10832356d02a2d83a64b43a24f1762c172754407d22fc8f960/mitdeeplearning-0.1.2.tar.gz (2.1MB)\n",
            "\u001b[K     |████████████████████████████████| 2.1MB 12.9MB/s \n",
            "\u001b[?25hRequirement already satisfied: numpy in /usr/local/lib/python3.6/dist-packages (from mitdeeplearning) (1.19.4)\n",
            "Requirement already satisfied: regex in /usr/local/lib/python3.6/dist-packages (from mitdeeplearning) (2019.12.20)\n",
            "Requirement already satisfied: tqdm in /usr/local/lib/python3.6/dist-packages (from mitdeeplearning) (4.41.1)\n",
            "Requirement already satisfied: gym in /usr/local/lib/python3.6/dist-packages (from mitdeeplearning) (0.17.3)\n",
            "Requirement already satisfied: pyglet<=1.5.0,>=1.4.0 in /usr/local/lib/python3.6/dist-packages (from gym->mitdeeplearning) (1.5.0)\n",
            "Requirement already satisfied: scipy in /usr/local/lib/python3.6/dist-packages (from gym->mitdeeplearning) (1.4.1)\n",
            "Requirement already satisfied: cloudpickle<1.7.0,>=1.2.0 in /usr/local/lib/python3.6/dist-packages (from gym->mitdeeplearning) (1.3.0)\n",
            "Requirement already satisfied: future in /usr/local/lib/python3.6/dist-packages (from pyglet<=1.5.0,>=1.4.0->gym->mitdeeplearning) (0.16.0)\n",
            "Building wheels for collected packages: mitdeeplearning\n",
            "  Building wheel for mitdeeplearning (setup.py) ... \u001b[?25l\u001b[?25hdone\n",
            "  Created wheel for mitdeeplearning: filename=mitdeeplearning-0.1.2-cp36-none-any.whl size=2114587 sha256=f4b5dd14546ec40e5fce01032ab5c8c59801bbb46566821d94424bce52fccdc4\n",
            "  Stored in directory: /root/.cache/pip/wheels/27/e1/73/5f01c787621d8a3c857f59876c79e304b9b64db9ff5bd61b74\n",
            "Successfully built mitdeeplearning\n",
            "Installing collected packages: mitdeeplearning\n",
            "Successfully installed mitdeeplearning-0.1.2\n"
          ],
          "name": "stdout"
        }
      ]
    },
    {
      "cell_type": "markdown",
      "metadata": {
        "id": "zmrHSiXKTXTY"
      },
      "source": [
        "Before we dive in, let's take a step back and outline our approach, which is generally applicable to reinforcement learning problems in general:\n",
        "\n",
        "1. **Initialize our environment and our agent**: here we will describe the different observations and actions the agent can make in the environment.\n",
        "2. **Define our agent's memory**: this will enable the agent to remember its past actions, observations, and rewards.\n",
        "3. **Define a reward function**: describes the reward associated with an action or sequence of actions.\n",
        "4. **Define the learning algorithm**: this will be used to reinforce the agent's good behaviors and discourage bad behaviors.\n"
      ]
    },
    {
      "cell_type": "markdown",
      "metadata": {
        "id": "UT7YL8KBJIIc"
      },
      "source": [
        "# Part 1: Cartpole\n",
        "\n",
        "## 3.1 Define the Cartpole environment and agent\n",
        "\n",
        "### Environment \n",
        "\n",
        "In order to model the environment for both the Cartpole and Pong tasks, we'll be using a toolkit developed by OpenAI called [OpenAI Gym](https://gym.openai.com/). It provides several pre-defined environments for training and testing reinforcement learning agents, including those for classic physics control tasks, Atari video games, and robotic simulations. To access the Cartpole environment, we can use `env = gym.make(\"CartPole-v0\")`, which we gained access to when we imported the `gym` package. We can instantiate different [environments](https://gym.openai.com/envs/#classic_control) by passing the enivronment name to the `make` function.\n",
        "\n",
        "One issue we might experience when developing RL algorithms is that many aspects of the learning process are inherently random: initializing game states, changes in the environment, and the agent's actions. As such, it can be helpful to set a initial \"seed\" for the environment to ensure some level of reproducibility. Much like you might use `numpy.random.seed`, we can call the comparable function in gym, `seed`, with our defined environment to ensure the environment's random variables are initialized the same each time."
      ]
    },
    {
      "cell_type": "code",
      "metadata": {
        "id": "quv9SC0iIYFm",
        "colab": {
          "base_uri": "https://localhost:8080/"
        },
        "outputId": "c09def5f-a117-4f78-8ae3-f975f295b46e"
      },
      "source": [
        "### Instantiate the Cartpole environment ###\n",
        "\n",
        "env = gym.make(\"CartPole-v0\")\n",
        "env.seed(1)"
      ],
      "execution_count": 3,
      "outputs": [
        {
          "output_type": "execute_result",
          "data": {
            "text/plain": [
              "[1]"
            ]
          },
          "metadata": {
            "tags": []
          },
          "execution_count": 3
        }
      ]
    },
    {
      "cell_type": "markdown",
      "metadata": {
        "id": "mhEITUcKK455"
      },
      "source": [
        "In Cartpole, a pole is attached by an un-actuated joint to a cart, which moves along a frictionless track. The pole starts upright, and the goal is to prevent it from falling over. The system is controlled by applying a force of +1 or -1 to the cart. A reward of +1 is provided for every timestep that the pole remains upright. The episode ends when the pole is more than 15 degrees from vertical, or the cart moves more than 2.4 units from the center of the track. A visual summary of the cartpole environment is depicted below:\n",
        "\n",
        "<img width=\"400px\" src=\"https://danielpiedrahita.files.wordpress.com/2017/02/cart-pole.png\"></img>\n",
        "\n",
        "Given this setup for the environment and the objective of the game, we can think about: 1) what observations help define the environment's state; 2) what actions the agent can take. \n",
        "\n",
        "First, let's consider the observation space. In this Cartpole environment our observations are:\n",
        "\n",
        "1. Cart position\n",
        "2. Cart velocity\n",
        "3. Pole angle\n",
        "4. Pole rotation rate\n",
        "\n",
        "We can confirm the size of the space by querying the environment's observation space:\n"
      ]
    },
    {
      "cell_type": "code",
      "metadata": {
        "id": "UVJaEcbdIX82",
        "colab": {
          "base_uri": "https://localhost:8080/"
        },
        "outputId": "99a68b66-330a-4955-8a0b-c9f64ed67f4a"
      },
      "source": [
        "n_observations = env.observation_space\n",
        "print(\"Environment has observation space =\", n_observations)"
      ],
      "execution_count": 4,
      "outputs": [
        {
          "output_type": "stream",
          "text": [
            "Environment has observation space = Box(-3.4028234663852886e+38, 3.4028234663852886e+38, (4,), float32)\n"
          ],
          "name": "stdout"
        }
      ]
    },
    {
      "cell_type": "markdown",
      "metadata": {
        "id": "ZibGgjrALgPM"
      },
      "source": [
        "Second, we consider the action space. At every time step, the agent can move either right or left. Again we can confirm the size of the action space by querying the environment:"
      ]
    },
    {
      "cell_type": "code",
      "metadata": {
        "id": "qc9SIPxBIXrm",
        "colab": {
          "base_uri": "https://localhost:8080/"
        },
        "outputId": "4e3cdd4c-4f1b-4879-a435-ff9e40423a6c"
      },
      "source": [
        "n_actions = env.action_space.n\n",
        "print(\"Number of possible actions that the agent can choose from =\", n_actions)"
      ],
      "execution_count": 5,
      "outputs": [
        {
          "output_type": "stream",
          "text": [
            "Number of possible actions that the agent can choose from = 2\n"
          ],
          "name": "stdout"
        }
      ]
    },
    {
      "cell_type": "code",
      "metadata": {
        "colab": {
          "base_uri": "https://localhost:8080/"
        },
        "id": "o7mmX_K-Jo6L",
        "outputId": "33ce1b1e-4e06-4e7d-fa9b-a631d6fb8459"
      },
      "source": [
        "env.action_space  # A Discrete(2) action space means that possible actions are either 0 or 1"
      ],
      "execution_count": 6,
      "outputs": [
        {
          "output_type": "execute_result",
          "data": {
            "text/plain": [
              "Discrete(2)"
            ]
          },
          "metadata": {
            "tags": []
          },
          "execution_count": 6
        }
      ]
    },
    {
      "cell_type": "markdown",
      "metadata": {
        "id": "pPfHME8aRKkb"
      },
      "source": [
        "### Cartpole agent\n",
        "\n",
        "Now that we have instantiated the environment and understood the dimensionality of the observation and action spaces, we are ready to define our agent. In deep reinforcement learning, a deep neural network defines the agent. This network will take as input an observation of the environment and output the probability of taking each of the possible actions. Since Cartpole is defined by a low-dimensional observation space, a simple feed-forward neural network should work well for our agent. We will define this using the `Sequential` API.\n"
      ]
    },
    {
      "cell_type": "code",
      "metadata": {
        "id": "W-o_XK4oQ4eu"
      },
      "source": [
        "### Define the Cartpole agent ###\n",
        "\n",
        "# Defines a feed-forward neural network\n",
        "def create_cartpole_model():\n",
        "  model = tf.keras.models.Sequential([\n",
        "      # First Dense layer\n",
        "      tf.keras.layers.Dense(units=32, activation='relu'),\n",
        "\n",
        "      # TODO: Define the last Dense layer, which will provide the network's output.\n",
        "      # Think about the space the agent needs to act in!\n",
        "      tf.keras.layers.Dense(units=n_actions)\n",
        "  ])\n",
        "  return model\n",
        "\n",
        "cartpole_model = create_cartpole_model()"
      ],
      "execution_count": 7,
      "outputs": []
    },
    {
      "cell_type": "markdown",
      "metadata": {
        "id": "d5D5NSIYS2IW"
      },
      "source": [
        "Now that we have defined the core network architecture, we will define an *action function* that executes a forward pass through the network, given a set of observations, and samples from the output. This sampling from the output probabilities will be used to select the next action for the agent. \n",
        "\n",
        "**Critically, this action function is totally general -- we will use this function for both Cartpole and Pong, and it is applicable to other RL tasks, as well!**"
      ]
    },
    {
      "cell_type": "code",
      "metadata": {
        "id": "E_vVZRr8Q4R_"
      },
      "source": [
        "### Define the agent's action function ###\n",
        "\n",
        "# Function that takes observations as input, executes a forward pass through model, \n",
        "#   and outputs a sampled action.\n",
        "# Arguments:\n",
        "#   model: the network that defines our agent\n",
        "#   observation: observation which is fed as input to the model\n",
        "# Returns:\n",
        "#   action: choice of agent action\n",
        "def choose_action(model, observation):\n",
        "  # add batch dimension to the observation\n",
        "  observation = np.expand_dims(observation, axis=0)\n",
        "\n",
        "  '''TODO: feed the observations through the model to predict the log probabilities of each possible action.'''\n",
        "  logits = model.predict(observation)\n",
        "  \n",
        "  # pass the log probabilities through a softmax to compute true probabilities\n",
        "  prob_weights = tf.nn.softmax(logits).numpy()\n",
        "  \n",
        "  '''TODO: randomly sample from the prob_weights to pick an action.\n",
        "  Hint: carefully consider the dimensionality of the input probabilities (vector) and the output action (scalar)'''\n",
        "  action = np.random.choice(n_actions, size=1, p=prob_weights[0])[0]  # prob_weights[0] or prob_weights.flatten() because of the (unused) batch dimension\n",
        "\n",
        "  return action"
      ],
      "execution_count": 8,
      "outputs": []
    },
    {
      "cell_type": "markdown",
      "metadata": {
        "id": "_tR9uAWcTnkr"
      },
      "source": [
        "## 3.2 Define the agent's memory\n",
        "\n",
        "Now that we have instantiated the environment and defined the agent network architecture and action function, we are ready to move on to the next step in our RL workflow:\n",
        "1. **Initialize our environment and our agent**: here we will describe the different observations and actions the agent can make in the environment.\n",
        "2. **Define our agent's memory**: this will enable the agent to remember its past actions, observations, and rewards.\n",
        "3. **Define the learning algorithm**: this will be used to reinforce the agent's good behaviors and discourage bad behaviors.\n",
        "\n",
        "In reinforcement learning, training occurs alongside the agent's acting in the environment; an *episode* refers to a sequence of actions that ends in some terminal state, such as the pole falling down or the cart crashing. The agent will need to remember all of its observations and actions, such that once an episode ends, it can learn to \"reinforce\" the good actions and punish the undesirable actions via training. Our first step is to define a simple memory buffer that contains the agent's observations, actions, and received rewards from a given episode. \n",
        "\n",
        "**Once again, note the modularity of this memory buffer -- it can and will be applied to other RL tasks as well!**"
      ]
    },
    {
      "cell_type": "code",
      "metadata": {
        "id": "8MM6JwXVQ4JG"
      },
      "source": [
        "### Agent Memory ###\n",
        "\n",
        "class Memory:\n",
        "  def __init__(self): \n",
        "      self.clear()\n",
        "\n",
        "  # Resets/restarts the memory buffer\n",
        "  def clear(self): \n",
        "      self.observations = []\n",
        "      self.actions = []\n",
        "      self.rewards = []\n",
        "\n",
        "  # Add observations, actions, rewards to memory\n",
        "  def add_to_memory(self, new_observation, new_action, new_reward): \n",
        "      self.observations.append(new_observation)\n",
        "      self.actions.append(new_action)  # TODO: your update code here\n",
        "      self.rewards.append(new_reward)  # TODO: your update code here\n",
        "        \n",
        "memory = Memory()"
      ],
      "execution_count": 9,
      "outputs": []
    },
    {
      "cell_type": "markdown",
      "metadata": {
        "id": "D4YhtPaUVj5m"
      },
      "source": [
        "## 3.3 Reward function\n",
        "\n",
        "We're almost ready to begin the learning algorithm for our agent! The next step is to compute the rewards of our agent as it acts in the environment. Since we (and the agent) is uncertain about if and when the game or task will end (i.e., when the pole will fall), it is useful to emphasize getting rewards **now** rather than later in the future -- this is the idea of discounting. This is a similar concept to discounting money in the case of interest. Recall from lecture, we use reward discount to give more preference at getting rewards now rather than later in the future. The idea of discounting rewards is similar to discounting money in the case of interest.\n",
        "\n",
        "To compute the expected cumulative reward, known as the **return**, at a given timestep in a learning episode, we sum the discounted rewards expected at that time step $t$, within a learning episode, and projecting into the future. We define the return (cumulative reward) at a time step $t$, $R_{t}$ as:\n",
        "\n",
        ">$R_{t}=\\sum_{k=0}^\\infty\\gamma^kr_{t+k}$\n",
        "\n",
        "where  $0 < \\gamma < 1$ is the discount factor and $r_{t}$ is the reward at time step $t$, and the index $k$ increments projection into the future within a single learning episode. Intuitively, you can think of this function as depreciating any rewards received at later time steps, which will force the agent prioritize getting rewards now. Since we can't extend episodes to infinity, in practice the computation will be limited to the number of timesteps in an episode -- after that the reward is assumed to be zero.\n",
        "\n",
        "Take note of the form of this sum -- we'll have to be clever about how we implement this function. Specifically, we'll need to initialize an array of zeros, with length of the number of time steps, and fill it with the real discounted reward values as we loop through the rewards from the episode, which will have been saved in the agents memory. What we ultimately care about is which actions are better relative to other actions taken in that episode -- so, we'll normalize our computed rewards, using the mean and standard deviation of the rewards across the learning episode.\n"
      ]
    },
    {
      "cell_type": "code",
      "metadata": {
        "id": "5_Q2OFYtQ32X"
      },
      "source": [
        "### Reward function ###\n",
        "\n",
        "# Helper function that normalizes an np.array x\n",
        "def normalize(x):\n",
        "  x -= np.mean(x)\n",
        "  x /= np.std(x)\n",
        "  return x.astype(np.float32)\n",
        "\n",
        "# Compute normalized, discounted, cumulative rewards (i.e., return)\n",
        "# Arguments:\n",
        "#   rewards: reward at timesteps in episode\n",
        "#   gamma: discounting factor\n",
        "# Returns:\n",
        "#   normalized discounted reward\n",
        "def discount_rewards(rewards, gamma=0.95): \n",
        "  discounted_rewards = np.zeros_like(rewards)\n",
        "  R = 0\n",
        "  for t in reversed(range(0, len(rewards))):\n",
        "      # update the total discounted reward\n",
        "      R = R * gamma + rewards[t]\n",
        "      discounted_rewards[t] = R\n",
        "\n",
        "  return normalize(discounted_rewards)"
      ],
      "execution_count": 10,
      "outputs": []
    },
    {
      "cell_type": "markdown",
      "metadata": {
        "id": "QzbY-mjGYcmt"
      },
      "source": [
        "## 3.4 Learning algorithm\n",
        "\n",
        "Now we can start to define the learing algorithm which will be used to reinforce good behaviors of the agent and discourage bad behaviours. In this lab, we will focus on *policy gradient* methods which aim to **maximize** the likelihood of actions that result in large rewards. Equivalently, this means that we want to **minimize** the negative likelihood of these same actions. We achieve this by simply **scaling** the probabilities by their associated rewards -- effectively amplifying the likelihood of actions that result in large rewards.\n",
        "\n",
        "Since the log function is monotonically increasing, this means that minimizing **negative likelihood** is equivalent to minimizing **negative log-likelihood**.  Recall that we can easily compute the negative log-likelihood of a discrete action by evaluting its [softmax cross entropy](https://www.tensorflow.org/api_docs/python/tf/nn/sparse_softmax_cross_entropy_with_logits). Like in supervised learning, we can use stochastic gradient descent methods to achieve the desired minimization. \n",
        "\n",
        "Let's begin by defining the loss function."
      ]
    },
    {
      "cell_type": "code",
      "metadata": {
        "id": "fsgZ3IDCY_Zn"
      },
      "source": [
        "### Loss function ###\n",
        "\n",
        "# Arguments:\n",
        "#   logits: network's predictions for actions to take\n",
        "#   actions: the actions the agent took in an episode\n",
        "#   rewards: the rewards the agent received in an episode\n",
        "# Returns:\n",
        "#   loss\n",
        "def compute_loss(logits, actions, rewards): \n",
        "  #'''TODO: complete the function call to compute the negative log probabilities'''\n",
        "  neg_logprob = tf.nn.sparse_softmax_cross_entropy_with_logits(logits=logits, labels=actions)\n",
        "  \n",
        "  #'''TODO: scale the negative log probability by the rewards'''\n",
        "  loss = tf.reduce_mean(neg_logprob * rewards)\n",
        "  return loss"
      ],
      "execution_count": 11,
      "outputs": []
    },
    {
      "cell_type": "markdown",
      "metadata": {
        "id": "Rr5vQ9fqbPpp"
      },
      "source": [
        "Now let's use the loss function to define a training step of our learning algorithm:"
      ]
    },
    {
      "cell_type": "code",
      "metadata": {
        "id": "_50ada7nbZ7L"
      },
      "source": [
        "### Training step (forward and backpropagation) ###\n",
        "\n",
        "def train_step(model, optimizer, observations, actions, discounted_rewards):\n",
        "  with tf.GradientTape() as tape:\n",
        "      # Forward propagate through the agent network\n",
        "      logits = model(observations)\n",
        "\n",
        "      # Frank: for cartpole for example, observations.shape=(# time steps, 4)\n",
        "      #        and logits.shape=(# time steps, 2 because of 2 possible actions)\n",
        "      #        and actions.shape=(#time steps,)\n",
        "\n",
        "      # '''TODO: call the compute_loss function to compute the loss'''\n",
        "      loss = compute_loss(logits, actions, discounted_rewards)\n",
        "\n",
        "  # '''TODO: run backpropagation to minimize the loss using the tape.gradient method.\n",
        "  #    Use `model.trainable_variables`'''\n",
        "  grads = tape.gradient(loss, model.trainable_variables)\n",
        "  optimizer.apply_gradients(zip(grads, model.trainable_variables))  # CHECKME: this only takes one step towards minimal loss, right?\n"
      ],
      "execution_count": 12,
      "outputs": []
    },
    {
      "cell_type": "markdown",
      "metadata": {
        "id": "XsjKXh6BcgjR"
      },
      "source": [
        "## 3.5 Run cartpole!\n",
        "\n",
        "Having had no prior knowledge of the environment, the agent will begin to learn how to balance the pole on the cart based only on the feedback received from the environment! Having defined how our agent can move, how it takes in new observations, and how it updates its state, we'll see how it gradually learns a policy of actions to optimize balancing the pole as long as possible. To do this, we'll track how the rewards evolve as a function of training -- how should the rewards change as training progresses?"
      ]
    },
    {
      "cell_type": "code",
      "metadata": {
        "id": "XmOzc2rrcn8Q",
        "colab": {
          "base_uri": "https://localhost:8080/",
          "height": 541
        },
        "outputId": "d26302f0-e0c0-4106-f3ec-fe04b1314b70"
      },
      "source": [
        "### Cartpole training! ###\n",
        "\n",
        "# Learning rate and optimizer\n",
        "learning_rate = 1e-3\n",
        "optimizer = tf.keras.optimizers.Adam(learning_rate)\n",
        "\n",
        "# instantiate cartpole agent\n",
        "cartpole_model = create_cartpole_model()\n",
        "\n",
        "# to track our progress\n",
        "smoothed_reward = mdl.util.LossHistory(smoothing_factor=0.9)\n",
        "plotter = mdl.util.PeriodicPlotter(sec=2, xlabel='Iterations', ylabel='Rewards')\n",
        "\n",
        "if hasattr(tqdm, '_instances'): tqdm._instances.clear() # clear if it exists\n",
        "for i_episode in range(500):\n",
        "\n",
        "  plotter.plot(smoothed_reward.get())\n",
        "\n",
        "  # Restart the environment\n",
        "  observation = env.reset()\n",
        "  memory.clear()\n",
        "\n",
        "  while True:\n",
        "      # using our observation, choose an action and take it in the environment\n",
        "      action = choose_action(cartpole_model, observation)\n",
        "      next_observation, reward, done, info = env.step(action)\n",
        "      # add to memory\n",
        "      memory.add_to_memory(observation, action, reward)\n",
        "      \n",
        "      # is the episode over? did you crash or do so well that you're done?\n",
        "      if done:\n",
        "          # determine total reward and keep a record of this\n",
        "          total_reward = sum(memory.rewards)\n",
        "          smoothed_reward.append(total_reward)\n",
        "\n",
        "          # Frank:\n",
        "          # memory.rewards = [1, 1, 1, ..., 1] = a reward of one for each time step in the episode\n",
        "          # memory.actions = [0 or 1, ..., 0 or 1] = 0 or 1 for left/right on each time step\n",
        "          # memory.observations = [array([4 elems]), ..., array[(4 elems)]]\n",
        "          # np.vstack(memory.observations) = np.array of shape (#time steps, 4)\n",
        "          \n",
        "          # initiate training - remember we don't know anything about how the \n",
        "          #   agent is doing until it has crashed!\n",
        "          train_step(cartpole_model, optimizer, \n",
        "                     observations=np.vstack(memory.observations),\n",
        "                     actions=np.array(memory.actions),\n",
        "                     discounted_rewards = discount_rewards(memory.rewards))\n",
        "          \n",
        "          # reset the memory\n",
        "          memory.clear()\n",
        "          break\n",
        "      # update our observatons\n",
        "      observation = next_observation"
      ],
      "execution_count": 13,
      "outputs": [
        {
          "output_type": "display_data",
          "data": {
            "image/png": "[encoded data removed]",
            "text/plain": [
              "<Figure size 432x288 with 1 Axes>"
            ]
          },
          "metadata": {
            "tags": []
          }
        },
        {
          "output_type": "display_data",
          "data": {
            "image/png": "[encoded data removed]",
            "text/plain": [
              "<Figure size 432x288 with 1 Axes>"
            ]
          },
          "metadata": {
            "tags": [],
            "needs_background": "light"
          }
        }
      ]
    },
    {
      "cell_type": "markdown",
      "metadata": {
        "id": "mkcUtGF1VE-K"
      },
      "source": [
        "To get a sense of how our agent did, we can save a video of the trained model working on balancing the pole. Realize that this is a brand new environment that the agent has not seen before!\n",
        "\n",
        "Let's display the saved video to watch how our agent did!\n"
      ]
    },
    {
      "cell_type": "code",
      "metadata": {
        "id": "PAYBkv6Zbk0J",
        "colab": {
          "base_uri": "https://localhost:8080/",
          "height": 188
        },
        "outputId": "2f93e069-fd4d-4631-ab97-fc88dced2ce1"
      },
      "source": [
        "saved_cartpole = mdl.lab3.save_video_of_model(cartpole_model, \"CartPole-v0\")\n",
        "mdl.lab3.play_video(saved_cartpole)"
      ],
      "execution_count": 14,
      "outputs": [
        {
          "output_type": "stream",
          "text": [
            "Successfully saved 200 frames into CartPole-v0.mp4!\n"
          ],
          "name": "stdout"
        },
        {
          "output_type": "execute_result",
          "data": {
            "text/html": [
              "\n",
              "        <video controls>\n",
              "            <source src=\"data:video/mp4;base64,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\" type=\"video/mp4\" />\n",
              "        </video>"
            ],
            "text/plain": [
              "<IPython.core.display.HTML object>"
            ]
          },
          "metadata": {
            "tags": []
          },
          "execution_count": 14
        }
      ]
    },
    {
      "cell_type": "markdown",
      "metadata": {
        "id": "CSbVNDpaVb3_"
      },
      "source": [
        "How does the agent perform? Could you train it for shorter amounts of time and still perform well? Do you think that training longer would help even more? "
      ]
    },
    {
      "cell_type": "markdown",
      "metadata": {
        "id": "Eu6Mqxc720ST"
      },
      "source": [
        "#Part 2: Pong\n",
        "\n",
        "In Cartpole, we dealt with an environment that was static -- in other words, it didn't change over time. What happens if our environment is dynamic and unpredictable? Well that's exactly the case in [Pong](https://en.wikipedia.org/wiki/Pong), since part of the environment is the opposing player. We don't know how our opponent will act or react to our actions, so the complexity of our problem increases. It also becomes much more interesting, since we can compete to beat our opponent. RL provides a powerful framework for training AI systems with the ability to handle and interact with dynamic, unpredictable environments. In this part of the lab, we'll use the tools and workflow we explored in Part 1 to build an RL agent capable of playing the game of Pong.\n"
      ]
    },
    {
      "cell_type": "markdown",
      "metadata": {
        "id": "srZ4YE29isuA"
      },
      "source": [
        "## 3.6 Define and inspect the Pong environment\n",
        "\n",
        "As with Cartpole, we'll instantiate the Pong environment in the OpenAI gym, using a seed of 1."
      ]
    },
    {
      "cell_type": "code",
      "metadata": {
        "id": "lbYHLr66i15n"
      },
      "source": [
        "env = gym.make(\"Pong-v0\", frameskip=5)\n",
        "env.seed(1); # for reproducibility"
      ],
      "execution_count": 13,
      "outputs": []
    },
    {
      "cell_type": "markdown",
      "metadata": {
        "id": "52uZ2Xhyi-MW"
      },
      "source": [
        "Let's next consider the observation space for the Pong environment. Instead of four physical descriptors of the cart-pole setup, in the case of Pong our observations are the individual video frames (i.e., images) that depict the state of the board. Thus, the observations are 210x160 RGB images (arrays of shape (210,160,3)).\n",
        "\n",
        "We can again confirm the size of the observation space by query:"
      ]
    },
    {
      "cell_type": "code",
      "metadata": {
        "id": "0yX4GWvxjnHS",
        "colab": {
          "base_uri": "https://localhost:8080/"
        },
        "outputId": "e2ed1e3f-5e4d-4975-b8c9-c7b1e8c55175"
      },
      "source": [
        "print(\"Environment has observation space =\", env.observation_space)"
      ],
      "execution_count": 14,
      "outputs": [
        {
          "output_type": "stream",
          "text": [
            "Environment has observation space = Box(0, 255, (210, 160, 3), uint8)\n"
          ],
          "name": "stdout"
        }
      ]
    },
    {
      "cell_type": "markdown",
      "metadata": {
        "id": "uuEC2TdSjx9D"
      },
      "source": [
        "In Pong, at every time step, the agent (which controls the paddle) has six actions to choose from: no-op (no operation), move right, move left, fire, fire right, and fire left. Let's confirm the size of the action space by querying the environment:"
      ]
    },
    {
      "cell_type": "code",
      "metadata": {
        "id": "Iuy9oPc1kag3",
        "colab": {
          "base_uri": "https://localhost:8080/"
        },
        "outputId": "5aadc94e-da25-48e6-a84d-b639b31b0759"
      },
      "source": [
        "n_actions = env.action_space.n\n",
        "print(\"Number of possible actions that the agent can choose from =\", n_actions)"
      ],
      "execution_count": 15,
      "outputs": [
        {
          "output_type": "stream",
          "text": [
            "Number of possible actions that the agent can choose from = 6\n"
          ],
          "name": "stdout"
        }
      ]
    },
    {
      "cell_type": "markdown",
      "metadata": {
        "id": "pXJ7qJlLYYVo"
      },
      "source": [
        "*Frank: it is strange that there are 6 actions. But it turns out two pairs of actions (2 and 4) move the paddle up, two pairs move it down (3 and 5), and the remaining two actions (0 and 1) have no effect. These 6 actions probably just mimick the 6 possible actions on the original atari controller.*"
      ]
    },
    {
      "cell_type": "code",
      "metadata": {
        "id": "2LxLPk1zZAt_",
        "colab": {
          "base_uri": "https://localhost:8080/"
        },
        "outputId": "f3fb393a-71a8-4723-f623-6d6e40723f5c"
      },
      "source": [
        "env.unwrapped.get_action_meanings()"
      ],
      "execution_count": 16,
      "outputs": [
        {
          "output_type": "execute_result",
          "data": {
            "text/plain": [
              "['NOOP', 'FIRE', 'RIGHT', 'LEFT', 'RIGHTFIRE', 'LEFTFIRE']"
            ]
          },
          "metadata": {
            "tags": []
          },
          "execution_count": 16
        }
      ]
    },
    {
      "cell_type": "code",
      "metadata": {
        "id": "x6DhE0qTY3oM",
        "colab": {
          "base_uri": "https://localhost:8080/",
          "height": 1000
        },
        "outputId": "6c3332b5-235b-4cf3-abb4-1fc47c214f90"
      },
      "source": [
        "# Frank: show the effect of the 6 actions on the game screen\n",
        "from PIL import Image\n",
        "for action in range(6):\n",
        "  o = env.reset()\n",
        "  for i in range(3): # repeat one action a few times\n",
        "      o = env.step(action)[0]\n",
        "  IPython.display.display(Image.fromarray(o))"
      ],
      "execution_count": 17,
      "outputs": [
        {
          "output_type": "display_data",
          "data": {
            "image/png": "[encoded data removed]",
            "text/plain": [
              "<PIL.Image.Image image mode=RGB size=160x210 at 0x7F234CE905C0>"
            ]
          },
          "metadata": {
            "tags": []
          }
        },
        {
          "output_type": "display_data",
          "data": {
            "image/png": "[encoded data removed]",
            "text/plain": [
              "<PIL.Image.Image image mode=RGB size=160x210 at 0x7F234CE90588>"
            ]
          },
          "metadata": {
            "tags": []
          }
        },
        {
          "output_type": "display_data",
          "data": {
            "image/png": "[encoded data removed]",
            "text/plain": [
              "<PIL.Image.Image image mode=RGB size=160x210 at 0x7F234CE90588>"
            ]
          },
          "metadata": {
            "tags": []
          }
        },
        {
          "output_type": "display_data",
          "data": {
            "image/png": "[encoded data removed]",
            "text/plain": [
              "<PIL.Image.Image image mode=RGB size=160x210 at 0x7F23402AB4A8>"
            ]
          },
          "metadata": {
            "tags": []
          }
        },
        {
          "output_type": "display_data",
          "data": {
            "image/png": "[encoded data removed]",
            "text/plain": [
              "<PIL.Image.Image image mode=RGB size=160x210 at 0x7F234CE90588>"
            ]
          },
          "metadata": {
            "tags": []
          }
        },
        {
          "output_type": "display_data",
          "data": {
            "image/png": "[encoded data removed]",
            "text/plain": [
              "<PIL.Image.Image image mode=RGB size=160x210 at 0x7F234CE90588>"
            ]
          },
          "metadata": {
            "tags": []
          }
        }
      ]
    },
    {
      "cell_type": "markdown",
      "metadata": {
        "id": "9-fghDRigUE5"
      },
      "source": [
        "## 3.7 Define the Pong agent\n",
        "\n",
        "As before, we'll use a neural network to define our agent. What network architecture do you think would be especially well suited to this game? Since our observations are now in the form of images, we'll add convolutional layers to the network to increase the learning capacity of our network."
      ]
    },
    {
      "cell_type": "code",
      "metadata": {
        "id": "IJiqbFYpgYRH"
      },
      "source": [
        "### Define the Pong agent ###\n",
        "\n",
        "# Functionally define layers for convenience\n",
        "# All convolutional layers will have ReLu activation\n",
        "Conv2D = functools.partial(tf.keras.layers.Conv2D, padding='same', activation='relu')\n",
        "Flatten = tf.keras.layers.Flatten\n",
        "Dense = tf.keras.layers.Dense\n",
        "\n",
        "# Defines a CNN for the Pong agent\n",
        "def create_pong_model():\n",
        "  model = tf.keras.models.Sequential([\n",
        "    # Convolutional layers\n",
        "    # First, 16 7x7 filters with 4x4 stride\n",
        "    Conv2D(name='conv1', filters=16, kernel_size=7, strides=4),\n",
        "\n",
        "    # TODO: define convolutional layers with 32 5x5 filters and 2x2 stride\n",
        "    Conv2D(name='conv2', filters=32, kernel_size=5, strides=2),\n",
        "\n",
        "    # TODO: define convolutional layers with 48 3x3 filters and 2x2 stride\n",
        "    Conv2D(name='conv3', filters=48, kernel_size=3, strides=2),\n",
        "\n",
        "    Flatten(),\n",
        "    \n",
        "    # Fully connected layer and output\n",
        "    Dense(units=64, activation='relu'),\n",
        "    # TODO: define the output dimension of the last Dense layer. \n",
        "    # Pay attention to the space the agent needs to act in\n",
        "    Dense(units=n_actions)\n",
        "  \n",
        "  ])\n",
        "  return model\n",
        "\n",
        "pong_model = create_pong_model()"
      ],
      "execution_count": 104,
      "outputs": []
    },
    {
      "cell_type": "markdown",
      "metadata": {
        "id": "yaeZ067olFiJ"
      },
      "source": [
        "Since we've already defined the action function, `choose_action(model, observation)`, we don't need to define it again. Instead, we'll be able to reuse it later on by passing in our new model we've just created, `pong_model`. This is awesome because our action function provides a modular and generalizable method for all sorts of RL agents!"
      ]
    },
    {
      "cell_type": "markdown",
      "metadata": {
        "id": "l0RvqOVkmc2r"
      },
      "source": [
        "## 3.8 Pong-specific functions\n",
        "\n",
        "In Part 1 (Cartpole), we implemented some key functions and classes to build and train our RL agent -- `choose_action(model, observation)` and the `Memory` class, for example. However, in getting ready to apply these to a new game like Pong, we might need to make some slight modifications. \n",
        "\n",
        "Namely, we need to think about what happens when a game ends. In Pong, we know a game has ended if the reward is +1 (we won!) or -1 (we lost unfortunately). Otherwise, we expect the reward at a timestep to be zero -- the players (or agents) are just playing eachother. So, after a game ends, we will need to reset the reward to zero when a game ends. This will result in a modified reward function."
      ]
    },
    {
      "cell_type": "code",
      "metadata": {
        "id": "iEZG2o50luLu"
      },
      "source": [
        "### Pong reward function ###\n",
        "\n",
        "# Compute normalized, discounted rewards for Pong (i.e., return)\n",
        "# Arguments:\n",
        "#   rewards: reward at timesteps in episode\n",
        "#   gamma: discounting factor. Note increase to 0.99 -- rate of depreciation will be slower.\n",
        "# Returns:\n",
        "#   normalized discounted reward\n",
        "def discount_rewards(rewards, gamma=0.99): \n",
        "  discounted_rewards = np.zeros_like(rewards)\n",
        "  R = 0\n",
        "  for t in reversed(range(0, len(rewards))):\n",
        "      # NEW: Reset the sum if the reward is not 0 (the game has ended!)\n",
        "      if rewards[t] != 0:\n",
        "        R = 0\n",
        "      # update the total discounted reward as before\n",
        "      R = R * gamma + rewards[t]\n",
        "      discounted_rewards[t] = R\n",
        "      \n",
        "  return normalize(discounted_rewards)"
      ],
      "execution_count": 19,
      "outputs": []
    },
    {
      "cell_type": "markdown",
      "metadata": {
        "id": "HopLpb4IoOqA"
      },
      "source": [
        "Additionally, we have to consider the nature of the observations in the Pong environment, and how they will be fed into our network. Our observations in this case are images. Before we input an image into our network, we'll do a bit of pre-processing to crop and scale, clean up the background colors to a single color, and set the important game elements to a single color. Let's use this function to visualize what an observation might look like before and after pre-processing."
      ]
    },
    {
      "cell_type": "code",
      "metadata": {
        "id": "no5IIYtFm8pI",
        "colab": {
          "base_uri": "https://localhost:8080/",
          "height": 227
        },
        "outputId": "294af43c-c965-4235-d422-f924b18d6f59"
      },
      "source": [
        "observation = env.reset()\n",
        "for i in range(30):\n",
        "  observation, _,_,_ = env.step(0)\n",
        "observation_pp = mdl.lab3.preprocess_pong(observation)\n",
        "\n",
        "f = plt.figure(figsize=(10,3))\n",
        "ax = f.add_subplot(121)\n",
        "ax2 = f.add_subplot(122)\n",
        "ax.imshow(observation); ax.grid(False);\n",
        "ax2.imshow(np.squeeze(observation_pp)); ax2.grid(False); plt.title('Preprocessed Observation');"
      ],
      "execution_count": 20,
      "outputs": [
        {
          "output_type": "display_data",
          "data": {
            "image/png": "[encoded data removed]",
            "text/plain": [
              "<Figure size 720x216 with 2 Axes>"
            ]
          },
          "metadata": {
            "tags": [],
            "needs_background": "light"
          }
        }
      ]
    },
    {
      "cell_type": "markdown",
      "metadata": {
        "id": "bYwIWC-Cz8F2"
      },
      "source": [
        "What do you notice? How might these changes be important for training our RL algorithm?"
      ]
    },
    {
      "cell_type": "markdown",
      "metadata": {
        "id": "mRqcaDQ1pm3x"
      },
      "source": [
        "## 3.9 Training Pong\n",
        "\n",
        "We're now all set up to start training our RL algorithm and agent for the game of Pong! We've already defined our loss function with `compute_loss`, which employs policy gradient learning, as well as our backpropagation step with `train_step` which is beautiful! We will use these functions to execute training the Pong agent. Let's walk through the training block.\n",
        "\n",
        "In Pong, rather than feeding our network one image at a time, it can actually improve performance to input the difference between two consecutive observations, which really gives us information about the movement between frames -- how the game is changing. We'll first pre-process the raw observation, `x`, and then we'll compute the difference with the image frame we saw one timestep before. \n",
        "\n",
        "This observation change will be forward propagated through our Pong agent, the CNN network model, which will then predict the next action to take based on this observation. The raw reward will be computed, and the observation, action, and reward will be recorded into memory. This will continue until a training episode, i.e., a game, ends.\n",
        "\n",
        "Then, we will compute the discounted rewards, and use this information to execute a training step. Memory will be cleared, and we will do it all over again!\n",
        "\n",
        "Let's run the code block to train our Pong agent. Note that completing training will take quite a bit of time (estimated at least a couple of hours). We will again visualize the evolution of the total reward as a function of training to get a sense of how the agent is learning."
      ]
    },
    {
      "cell_type": "code",
      "metadata": {
        "id": "xCwyQQrPnkZG",
        "colab": {
          "base_uri": "https://localhost:8080/",
          "height": 541
        },
        "outputId": "608491d4-c6e8-40f8-a635-b11ed479e49c"
      },
      "source": [
        "### Training Pong ###\n",
        "\n",
        "# Hyperparameters\n",
        "learning_rate=1e-4\n",
        "MAX_ITERS = 10000 # increase the maximum number of episodes, since Pong is more complex!\n",
        "\n",
        "# Model and optimizer\n",
        "pong_model = create_pong_model()\n",
        "optimizer = tf.keras.optimizers.Adam(learning_rate)\n",
        "\n",
        "# plotting\n",
        "smoothed_reward = mdl.util.LossHistory(smoothing_factor=0.9)\n",
        "plotter = mdl.util.PeriodicPlotter(sec=5, xlabel='Iterations', ylabel='Rewards')\n",
        "memory = Memory()\n",
        "\n",
        "for i_episode in range(MAX_ITERS):\n",
        "\n",
        "  plotter.plot(smoothed_reward.get())\n",
        "\n",
        "  # Restart the environment\n",
        "  observation = env.reset()\n",
        "  previous_frame = mdl.lab3.preprocess_pong(observation)\n",
        "\n",
        "  while True:\n",
        "      # Pre-process image \n",
        "      current_frame = mdl.lab3.preprocess_pong(observation)\n",
        "      \n",
        "      #'''TODO: determine the observation change\n",
        "      #Hint: this is the difference between the past two frames'''\n",
        "      obs_change = current_frame - previous_frame\n",
        "      \n",
        "      #'''TODO: choose an action for the pong model, using the frame difference, and evaluate'''\n",
        "      action = choose_action(pong_model, obs_change)\n",
        "      # Take the chosen action\n",
        "      next_observation, reward, done, info = env.step(action)\n",
        "\n",
        "      #'''TODO: save the observed frame difference, the action that was taken, and the resulting reward!'''\n",
        "      memory.add_to_memory(obs_change, action, reward)\n",
        "      \n",
        "      # is the episode over? did you crash or do so well that you're done?\n",
        "      if done:\n",
        "          # determine total reward and keep a record of this\n",
        "          total_reward = sum(memory.rewards)\n",
        "          smoothed_reward.append( total_reward )\n",
        "\n",
        "          # print(memory.rewards)\n",
        "\n",
        "          # begin training\n",
        "          train_step(pong_model, \n",
        "                     optimizer, \n",
        "                     observations = np.stack(memory.observations, 0), \n",
        "                     actions = np.array(memory.actions),\n",
        "                     discounted_rewards = discount_rewards(memory.rewards))\n",
        "          \n",
        "          memory.clear()\n",
        "          break\n",
        "\n",
        "      observation = next_observation\n",
        "      previous_frame = current_frame"
      ],
      "execution_count": 105,
      "outputs": [
        {
          "output_type": "display_data",
          "data": {
            "image/png": "[encoded data removed]",
            "text/plain": [
              "<Figure size 432x288 with 1 Axes>"
            ]
          },
          "metadata": {
            "tags": []
          }
        },
        {
          "output_type": "display_data",
          "data": {
            "image/png": "[encoded data removed]",
            "text/plain": [
              "<Figure size 432x288 with 1 Axes>"
            ]
          },
          "metadata": {
            "tags": [],
            "needs_background": "light"
          }
        }
      ]
    },
    {
      "cell_type": "markdown",
      "metadata": {
        "id": "8LiEY5Y_ts-Z"
      },
      "source": [
        "Finally we can put our trained agent to the test! It will play in a newly instantiated Pong environment against the \"computer\", a base AI system for Pong. Your agent plays as the green paddle. Let's watch the match instant replay!"
      ]
    },
    {
      "cell_type": "code",
      "metadata": {
        "id": "TvHXbkL0tR6M",
        "colab": {
          "base_uri": "https://localhost:8080/",
          "height": 188
        },
        "outputId": "44b8643d-1c34-48b4-ed8d-52990579430b"
      },
      "source": [
        "saved_pong = mdl.lab3.save_video_of_model(\n",
        "    pong_model, \"Pong-v0\", obs_diff=True, \n",
        "    pp_fn=mdl.lab3.preprocess_pong)\n",
        "mdl.lab3.play_video(saved_pong)"
      ],
      "execution_count": 22,
      "outputs": [
        {
          "output_type": "stream",
          "text": [
            "Successfully saved 1094 frames into Pong-v0.mp4!\n"
          ],
          "name": "stdout"
        },
        {
          "output_type": "execute_result",
          "data": {
            "text/html": [
              "\n",
              "        <video controls>\n",
              "            <source src=\"data:video/mp4;base64,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\" type=\"video/mp4\" />\n",
              "        </video>"
            ],
            "text/plain": [
              "<IPython.core.display.HTML object>"
            ]
          },
          "metadata": {
            "tags": []
          },
          "execution_count": 22
        }
      ]
    },
    {
      "cell_type": "markdown",
      "metadata": {
        "id": "TIlwIgBP3Js6"
      },
      "source": [
        "## 3.10 Conclusion\n",
        "\n",
        "That's it! Congratulations on training two RL agents and putting them to the test! We encourage you to consider the following:\n",
        "\n",
        "*   How does the agent perform?\n",
        "*   Could you train it for shorter amounts of time  and still perform well?\n",
        "*   Do you think that training longer would help even more? \n",
        "* How does the complexity of Pong relative to Cartpole alter the rate at which the agent learns and its performance? \n",
        "* What are some things you could change about the agent or the learning process to potentially improve performance?\n",
        "\n",
        "If you want to go further, try to optimize your model to achieve the best performance! **[Email us](mailto:introtodeeplearning-staff@mit.edu) a copy of your notebook with the Pong training executed AND a saved video of your Pong agent competing! We'll give out prizes to the best performers!**"
      ]
    },
    {
      "cell_type": "markdown",
      "metadata": {
        "id": "4QsUk1ZYJUEE"
      },
      "source": [
        "##3.11 Network visualization"
      ]
    },
    {
      "cell_type": "markdown",
      "metadata": {
        "id": "gLuEE18MJd-b"
      },
      "source": [
        "This has interesting visualization of the network weights for Pong, but is does not use a convnet: http://karpathy.github.io/2016/05/31/rl/\n",
        "\n",
        "We have a convnet, this discusses visualizing weights and activations:\n",
        "https://debuggercafe.com/visualizing-filters-and-feature-maps-in-convolutional-neural-networks-using-pytorch/"
      ]
    },
    {
      "cell_type": "code",
      "metadata": {
        "id": "vikyVMxhH9p3",
        "outputId": "0c041461-eb89-4c4c-9558-57c5b02411f3",
        "colab": {
          "base_uri": "https://localhost:8080/"
        }
      },
      "source": [
        "pong_model.summary()"
      ],
      "execution_count": 106,
      "outputs": [
        {
          "output_type": "stream",
          "text": [
            "Model: \"sequential_5\"\n",
            "_________________________________________________________________\n",
            "Layer (type)                 Output Shape              Param #   \n",
            "=================================================================\n",
            "conv1 (Conv2D)               (None, 20, 20, 16)        800       \n",
            "_________________________________________________________________\n",
            "conv2 (Conv2D)               (None, 10, 10, 32)        12832     \n",
            "_________________________________________________________________\n",
            "conv3 (Conv2D)               (None, 5, 5, 48)          13872     \n",
            "_________________________________________________________________\n",
            "flatten_4 (Flatten)          (None, 1200)              0         \n",
            "_________________________________________________________________\n",
            "dense_10 (Dense)             (None, 64)                76864     \n",
            "_________________________________________________________________\n",
            "dense_11 (Dense)             (None, 6)                 390       \n",
            "=================================================================\n",
            "Total params: 104,758\n",
            "Trainable params: 104,758\n",
            "Non-trainable params: 0\n",
            "_________________________________________________________________\n"
          ],
          "name": "stdout"
        }
      ]
    },
    {
      "cell_type": "code",
      "metadata": {
        "id": "8sLrzJkKRq8N",
        "outputId": "74d30ed2-145b-4b2a-9683-eec3e4a45efa",
        "colab": {
          "base_uri": "https://localhost:8080/"
        }
      },
      "source": [
        "for layer in pong_model.layers:\n",
        "  print(layer.get_config())"
      ],
      "execution_count": 107,
      "outputs": [
        {
          "output_type": "stream",
          "text": [
            "{'name': 'conv1', 'trainable': True, 'dtype': 'float32', 'filters': 16, 'kernel_size': (7, 7), 'strides': (4, 4), 'padding': 'same', 'data_format': 'channels_last', 'dilation_rate': (1, 1), 'groups': 1, 'activation': 'relu', 'use_bias': True, 'kernel_initializer': {'class_name': 'GlorotUniform', 'config': {'seed': None}}, 'bias_initializer': {'class_name': 'Zeros', 'config': {}}, 'kernel_regularizer': None, 'bias_regularizer': None, 'activity_regularizer': None, 'kernel_constraint': None, 'bias_constraint': None}\n",
            "{'name': 'conv2', 'trainable': True, 'dtype': 'float32', 'filters': 32, 'kernel_size': (5, 5), 'strides': (2, 2), 'padding': 'same', 'data_format': 'channels_last', 'dilation_rate': (1, 1), 'groups': 1, 'activation': 'relu', 'use_bias': True, 'kernel_initializer': {'class_name': 'GlorotUniform', 'config': {'seed': None}}, 'bias_initializer': {'class_name': 'Zeros', 'config': {}}, 'kernel_regularizer': None, 'bias_regularizer': None, 'activity_regularizer': None, 'kernel_constraint': None, 'bias_constraint': None}\n",
            "{'name': 'conv3', 'trainable': True, 'dtype': 'float32', 'filters': 48, 'kernel_size': (3, 3), 'strides': (2, 2), 'padding': 'same', 'data_format': 'channels_last', 'dilation_rate': (1, 1), 'groups': 1, 'activation': 'relu', 'use_bias': True, 'kernel_initializer': {'class_name': 'GlorotUniform', 'config': {'seed': None}}, 'bias_initializer': {'class_name': 'Zeros', 'config': {}}, 'kernel_regularizer': None, 'bias_regularizer': None, 'activity_regularizer': None, 'kernel_constraint': None, 'bias_constraint': None}\n",
            "{'name': 'flatten_4', 'trainable': True, 'dtype': 'float32', 'data_format': 'channels_last'}\n",
            "{'name': 'dense_10', 'trainable': True, 'dtype': 'float32', 'units': 64, 'activation': 'relu', 'use_bias': True, 'kernel_initializer': {'class_name': 'GlorotUniform', 'config': {'seed': None}}, 'bias_initializer': {'class_name': 'Zeros', 'config': {}}, 'kernel_regularizer': None, 'bias_regularizer': None, 'activity_regularizer': None, 'kernel_constraint': None, 'bias_constraint': None}\n",
            "{'name': 'dense_11', 'trainable': True, 'dtype': 'float32', 'units': 6, 'activation': 'linear', 'use_bias': True, 'kernel_initializer': {'class_name': 'GlorotUniform', 'config': {'seed': None}}, 'bias_initializer': {'class_name': 'Zeros', 'config': {}}, 'kernel_regularizer': None, 'bias_regularizer': None, 'activity_regularizer': None, 'kernel_constraint': None, 'bias_constraint': None}\n"
          ],
          "name": "stdout"
        }
      ]
    },
    {
      "cell_type": "code",
      "metadata": {
        "id": "zBk_FUuJRxm2",
        "outputId": "eca85fc8-2851-4c7e-bb4e-100664ac5632",
        "colab": {
          "base_uri": "https://localhost:8080/"
        }
      },
      "source": [
        "for layer_name in ['conv1', 'conv2', 'conv3']:\n",
        "  print(pong_model.get_layer(layer_name).weights[0].shape)"
      ],
      "execution_count": 123,
      "outputs": [
        {
          "output_type": "stream",
          "text": [
            "(7, 7, 1, 16)\n",
            "(5, 5, 16, 32)\n",
            "(3, 3, 32, 48)\n"
          ],
          "name": "stdout"
        }
      ]
    },
    {
      "cell_type": "code",
      "metadata": {
        "id": "NpG4eOK1TxYW"
      },
      "source": [
        "# Visualizing the 2nd and 3rd layer is difficult\n",
        "# because those filter kernels combine multiple input layers"
      ],
      "execution_count": 125,
      "outputs": []
    },
    {
      "cell_type": "code",
      "metadata": {
        "id": "XNkuxPdzVS-c"
      },
      "source": [
        "import matplotlib.pyplot as plt\n",
        "\n",
        "def show_weights(weights):\n",
        "  # weights is a tensor of size [rows, cols, 1, output channels]\n",
        "  _, _, _, channels = weights.shape\n",
        "  fig, axes = plt.subplots(1, channels, figsize=(15, 15 * channels))\n",
        "\n",
        "  for i, ax in enumerate(axes.flat):\n",
        "      img = weights[:,:,:,i].squeeze()\n",
        "      ax.axis('off')\n",
        "      ax.imshow(img, cmap='gray')\n",
        "\n",
        "  # plt.savefig('lay1.png')  # FIXME: too small"
      ],
      "execution_count": 120,
      "outputs": []
    },
    {
      "cell_type": "code",
      "metadata": {
        "id": "2ZEgxALTV72k",
        "outputId": "d41e0828-6c12-481e-cd66-7ae7e18244c7",
        "colab": {
          "base_uri": "https://localhost:8080/",
          "height": 75
        }
      },
      "source": [
        "for layer_name in ['conv1']: #, 'conv2', 'conv3']:\n",
        "  layer = pong_model.get_layer(layer_name)\n",
        "  weights = layer.get_weights()[0]  # 0 for the weights, 1 for the biases\n",
        "  show_weights(weights)"
      ],
      "execution_count": 121,
      "outputs": [
        {
          "output_type": "display_data",
          "data": {
            "image/png": "[encoded data removed]",
            "text/plain": [
              "<Figure size 1080x17280 with 16 Axes>"
            ]
          },
          "metadata": {
            "tags": [],
            "needs_background": "light"
          }
        }
      ]
    },
    {
      "cell_type": "code",
      "metadata": {
        "id": "8m1k4WqXZPgW"
      },
      "source": [
        ""
      ],
      "execution_count": null,
      "outputs": []
    }
  ]
}