{
  "nbformat": 4,
  "nbformat_minor": 0,
  "metadata": {
    "colab": {
      "name": "RL.ipynb",
      "provenance": [],
      "collapsed_sections": [
        "jrI6q7RmWQam"
      ],
      "toc_visible": true
    },
    "kernelspec": {
      "name": "python3",
      "display_name": "Python 3"
    },
    "accelerator": "GPU"
  },
  "cells": [
    {
      "cell_type": "markdown",
      "metadata": {
        "id": "jrI6q7RmWQam"
      },
      "source": [
        "<table align=\"center\">\n",
        "  <td align=\"center\"><a target=\"_blank\" href=\"http://introtodeeplearning.com\">\n",
        "        <img src=\"http://introtodeeplearning.com/images/colab/mit.png\" style=\"padding-bottom:5px;\" />\n",
        "      Visit MIT Deep Learning</a></td>\n",
        "  <td align=\"center\"><a target=\"_blank\" href=\"https://colab.research.google.com/github/aamini/introtodeeplearning/blob/master/lab3/RL.ipynb\">\n",
        "        <img src=\"http://introtodeeplearning.com/images/colab/colab.png?v2.0\"  style=\"padding-bottom:5px;\" />Run in Google Colab</a></td>\n",
        "  <td align=\"center\"><a target=\"_blank\" href=\"https://github.com/aamini/introtodeeplearning/blob/master/lab3/RL.ipynb\">\n",
        "        <img src=\"http://introtodeeplearning.com/images/colab/github.png\"  height=\"70px\" style=\"padding-bottom:5px;\"  />View Source on GitHub</a></td>\n",
        "</table>\n",
        "\n",
        "# Copyright Information"
      ]
    },
    {
      "cell_type": "code",
      "metadata": {
        "id": "wkd375upWYok"
      },
      "source": [
        "# Copyright 2020 MIT 6.S191 Introduction to Deep Learning. All Rights Reserved.\n",
        "# \n",
        "# Licensed under the MIT License. You may not use this file except in compliance\n",
        "# with the License. Use and/or modification of this code outside of 6.S191 must\n",
        "# reference:\n",
        "#\n",
        "# © MIT 6.S191: Introduction to Deep Learning\n",
        "# http://introtodeeplearning.com\n",
        "#"
      ],
      "execution_count": 19,
      "outputs": []
    },
    {
      "cell_type": "markdown",
      "metadata": {
        "id": "WoXYKhfZMHiw"
      },
      "source": [
        "# Laboratory 3: Reinforcement Learning\n",
        "\n",
        "Reinforcement learning (RL) is a subset of machine learning which poses learning problems as interactions between agents and environments. It often assumes agents have no prior knowledge of a world, so they must learn to navigate environments by optimizing a reward function. Within an environment, an agent can take certain actions and receive feedback, in the form of positive or negative rewards, with respect to their decision. As such, an agent's feedback loop is somewhat akin to the idea of \"trial and error\", or the manner in which a child might learn to distinguish between \"good\" and \"bad\" actions.\n",
        "\n",
        "In practical terms, our RL agent will interact with the environment by taking an action at each timestep, receiving a corresponding reward, and updating its state according to what it has \"learned\".  \n",
        "\n",
        "![alt text](https://www.kdnuggets.com/images/reinforcement-learning-fig1-700.jpg)\n",
        "\n",
        "While the ultimate goal of reinforcement learning is to teach agents to act in the real, physical world, games provide a convenient proving ground for developing RL algorithms and agents. Games have some properties that make them particularly well suited for RL: \n",
        "\n",
        "1.   In many cases, games have perfectly describable environments. For example, all rules of chess can be formally written and programmed into a chess game simulator;\n",
        "2.   Games are massively parallelizable. Since they do not require running in the real world, simultaneous environments can be run on large data clusters; \n",
        "3.   Simpler scenarios in games enable fast prototyping. This speeds up the development of algorithms that could eventually run in the real-world; and\n",
        "4.   ... Games are fun! \n",
        "\n",
        "In previous labs, we have explored both supervised (with LSTMs, CNNs) and unsupervised / semi-supervised (with VAEs) learning tasks. Reinforcement learning is fundamentally different, in that we are training a deep learning algorithm to govern the actions of our RL agent, that is trying, within its environment, to find the optimal way to achieve a goal. The goal of training an RL agent is to determine the best next step to take to earn the greatest final payoff or return. In this lab, we focus on building a reinforcement learning algorithm to master two different environments with varying complexity. \n",
        "\n",
        "1.   **Cartpole**:   Balance a pole, protruding from a cart, in an upright position by only moving the base left or right. Environment with a low-dimensional observation space.\n",
        "2.   [**Pong**](https://en.wikipedia.org/wiki/Pong): Beat your competitors (whether other AI or humans!) at the game of Pong. Environment with a high-dimensional observation space -- learning directly from raw pixels.\n",
        "\n",
        "Let's get started! First we'll import TensorFlow, the course package, and some dependencies.\n"
      ]
    },
    {
      "cell_type": "code",
      "metadata": {
        "id": "EvdePP-VyVWp",
        "colab": {
          "base_uri": "https://localhost:8080/"
        },
        "outputId": "bea64c3a-a6d5-49b7-835f-b0da7bdabbcf"
      },
      "source": [
        "!apt-get install -y xvfb python-opengl x11-utils > /dev/null 2>&1\n",
        "!pip install gym pyvirtualdisplay scikit-video > /dev/null 2>&1\n",
        "\n",
        "%tensorflow_version 2.x\n",
        "import tensorflow as tf\n",
        "\n",
        "import numpy as np\n",
        "import base64, io, time, gym\n",
        "import IPython, functools\n",
        "import matplotlib.pyplot as plt\n",
        "from tqdm import tqdm\n",
        "\n",
        "!pip install mitdeeplearning\n",
        "import mitdeeplearning as mdl"
      ],
      "execution_count": 20,
      "outputs": [
        {
          "output_type": "stream",
          "text": [
            "Requirement already satisfied: mitdeeplearning in /usr/local/lib/python3.6/dist-packages (0.1.2)\n",
            "Requirement already satisfied: regex in /usr/local/lib/python3.6/dist-packages (from mitdeeplearning) (2019.12.20)\n",
            "Requirement already satisfied: tqdm in /usr/local/lib/python3.6/dist-packages (from mitdeeplearning) (4.41.1)\n",
            "Requirement already satisfied: gym in /usr/local/lib/python3.6/dist-packages (from mitdeeplearning) (0.17.3)\n",
            "Requirement already satisfied: numpy in /usr/local/lib/python3.6/dist-packages (from mitdeeplearning) (1.19.4)\n",
            "Requirement already satisfied: scipy in /usr/local/lib/python3.6/dist-packages (from gym->mitdeeplearning) (1.4.1)\n",
            "Requirement already satisfied: pyglet<=1.5.0,>=1.4.0 in /usr/local/lib/python3.6/dist-packages (from gym->mitdeeplearning) (1.5.0)\n",
            "Requirement already satisfied: cloudpickle<1.7.0,>=1.2.0 in /usr/local/lib/python3.6/dist-packages (from gym->mitdeeplearning) (1.3.0)\n",
            "Requirement already satisfied: future in /usr/local/lib/python3.6/dist-packages (from pyglet<=1.5.0,>=1.4.0->gym->mitdeeplearning) (0.16.0)\n"
          ],
          "name": "stdout"
        }
      ]
    },
    {
      "cell_type": "markdown",
      "metadata": {
        "id": "zmrHSiXKTXTY"
      },
      "source": [
        "Before we dive in, let's take a step back and outline our approach, which is generally applicable to reinforcement learning problems in general:\n",
        "\n",
        "1. **Initialize our environment and our agent**: here we will describe the different observations and actions the agent can make in the environment.\n",
        "2. **Define our agent's memory**: this will enable the agent to remember its past actions, observations, and rewards.\n",
        "3. **Define a reward function**: describes the reward associated with an action or sequence of actions.\n",
        "4. **Define the learning algorithm**: this will be used to reinforce the agent's good behaviors and discourage bad behaviors.\n"
      ]
    },
    {
      "cell_type": "markdown",
      "metadata": {
        "id": "UT7YL8KBJIIc"
      },
      "source": [
        "# Part 1: Cartpole\n",
        "\n",
        "## 3.1 Define the Cartpole environment and agent\n",
        "\n",
        "### Environment \n",
        "\n",
        "In order to model the environment for both the Cartpole and Pong tasks, we'll be using a toolkit developed by OpenAI called [OpenAI Gym](https://gym.openai.com/). It provides several pre-defined environments for training and testing reinforcement learning agents, including those for classic physics control tasks, Atari video games, and robotic simulations. To access the Cartpole environment, we can use `env = gym.make(\"CartPole-v0\")`, which we gained access to when we imported the `gym` package. We can instantiate different [environments](https://gym.openai.com/envs/#classic_control) by passing the enivronment name to the `make` function.\n",
        "\n",
        "One issue we might experience when developing RL algorithms is that many aspects of the learning process are inherently random: initializing game states, changes in the environment, and the agent's actions. As such, it can be helpful to set a initial \"seed\" for the environment to ensure some level of reproducibility. Much like you might use `numpy.random.seed`, we can call the comparable function in gym, `seed`, with our defined environment to ensure the environment's random variables are initialized the same each time."
      ]
    },
    {
      "cell_type": "code",
      "metadata": {
        "id": "quv9SC0iIYFm",
        "colab": {
          "base_uri": "https://localhost:8080/"
        },
        "outputId": "a33f8f79-6244-42d4-97d2-f309634a5f31"
      },
      "source": [
        "### Instantiate the Cartpole environment ###\n",
        "\n",
        "env = gym.make(\"CartPole-v0\")\n",
        "env.seed(1)"
      ],
      "execution_count": 21,
      "outputs": [
        {
          "output_type": "execute_result",
          "data": {
            "text/plain": [
              "[1]"
            ]
          },
          "metadata": {
            "tags": []
          },
          "execution_count": 21
        }
      ]
    },
    {
      "cell_type": "markdown",
      "metadata": {
        "id": "mhEITUcKK455"
      },
      "source": [
        "In Cartpole, a pole is attached by an un-actuated joint to a cart, which moves along a frictionless track. The pole starts upright, and the goal is to prevent it from falling over. The system is controlled by applying a force of +1 or -1 to the cart. A reward of +1 is provided for every timestep that the pole remains upright. The episode ends when the pole is more than 15 degrees from vertical, or the cart moves more than 2.4 units from the center of the track. A visual summary of the cartpole environment is depicted below:\n",
        "\n",
        "<img width=\"400px\" src=\"https://danielpiedrahita.files.wordpress.com/2017/02/cart-pole.png\"></img>\n",
        "\n",
        "Given this setup for the environment and the objective of the game, we can think about: 1) what observations help define the environment's state; 2) what actions the agent can take. \n",
        "\n",
        "First, let's consider the observation space. In this Cartpole environment our observations are:\n",
        "\n",
        "1. Cart position\n",
        "2. Cart velocity\n",
        "3. Pole angle\n",
        "4. Pole rotation rate\n",
        "\n",
        "We can confirm the size of the space by querying the environment's observation space:\n"
      ]
    },
    {
      "cell_type": "code",
      "metadata": {
        "id": "UVJaEcbdIX82",
        "colab": {
          "base_uri": "https://localhost:8080/"
        },
        "outputId": "d3c3e103-4c5c-434a-a415-69f33b5e9c8a"
      },
      "source": [
        "n_observations = env.observation_space\n",
        "print(\"Environment has observation space =\", n_observations)"
      ],
      "execution_count": 22,
      "outputs": [
        {
          "output_type": "stream",
          "text": [
            "Environment has observation space = Box(-3.4028234663852886e+38, 3.4028234663852886e+38, (4,), float32)\n"
          ],
          "name": "stdout"
        }
      ]
    },
    {
      "cell_type": "markdown",
      "metadata": {
        "id": "ZibGgjrALgPM"
      },
      "source": [
        "Second, we consider the action space. At every time step, the agent can move either right or left. Again we can confirm the size of the action space by querying the environment:"
      ]
    },
    {
      "cell_type": "code",
      "metadata": {
        "id": "qc9SIPxBIXrm",
        "colab": {
          "base_uri": "https://localhost:8080/"
        },
        "outputId": "1286881e-9d6b-4af5-e8d1-9bbd40ac4c63"
      },
      "source": [
        "n_actions = env.action_space.n\n",
        "print(\"Number of possible actions that the agent can choose from =\", n_actions)"
      ],
      "execution_count": 23,
      "outputs": [
        {
          "output_type": "stream",
          "text": [
            "Number of possible actions that the agent can choose from = 2\n"
          ],
          "name": "stdout"
        }
      ]
    },
    {
      "cell_type": "code",
      "metadata": {
        "id": "o7mmX_K-Jo6L",
        "outputId": "75752479-301e-4aba-e5f7-15e075ca0579",
        "colab": {
          "base_uri": "https://localhost:8080/"
        }
      },
      "source": [
        "env.action_space  # A Discrete(2) action space means that possible actions are either 0 or 1"
      ],
      "execution_count": 24,
      "outputs": [
        {
          "output_type": "execute_result",
          "data": {
            "text/plain": [
              "Discrete(2)"
            ]
          },
          "metadata": {
            "tags": []
          },
          "execution_count": 24
        }
      ]
    },
    {
      "cell_type": "markdown",
      "metadata": {
        "id": "pPfHME8aRKkb"
      },
      "source": [
        "### Cartpole agent\n",
        "\n",
        "Now that we have instantiated the environment and understood the dimensionality of the observation and action spaces, we are ready to define our agent. In deep reinforcement learning, a deep neural network defines the agent. This network will take as input an observation of the environment and output the probability of taking each of the possible actions. Since Cartpole is defined by a low-dimensional observation space, a simple feed-forward neural network should work well for our agent. We will define this using the `Sequential` API.\n"
      ]
    },
    {
      "cell_type": "code",
      "metadata": {
        "id": "W-o_XK4oQ4eu"
      },
      "source": [
        "### Define the Cartpole agent ###\n",
        "\n",
        "# Defines a feed-forward neural network\n",
        "def create_cartpole_model():\n",
        "  model = tf.keras.models.Sequential([\n",
        "      # First Dense layer\n",
        "      tf.keras.layers.Dense(units=32, activation='relu'),\n",
        "\n",
        "      # TODO: Define the last Dense layer, which will provide the network's output.\n",
        "      # Think about the space the agent needs to act in!\n",
        "      tf.keras.layers.Dense(units=2)\n",
        "  ])\n",
        "  return model\n",
        "\n",
        "cartpole_model = create_cartpole_model()"
      ],
      "execution_count": 25,
      "outputs": []
    },
    {
      "cell_type": "markdown",
      "metadata": {
        "id": "d5D5NSIYS2IW"
      },
      "source": [
        "Now that we have defined the core network architecture, we will define an *action function* that executes a forward pass through the network, given a set of observations, and samples from the output. This sampling from the output probabilities will be used to select the next action for the agent. \n",
        "\n",
        "**Critically, this action function is totally general -- we will use this function for both Cartpole and Pong, and it is applicable to other RL tasks, as well!**"
      ]
    },
    {
      "cell_type": "code",
      "metadata": {
        "id": "E_vVZRr8Q4R_"
      },
      "source": [
        "### Define the agent's action function ###\n",
        "\n",
        "# Function that takes observations as input, executes a forward pass through model, \n",
        "#   and outputs a sampled action.\n",
        "# Arguments:\n",
        "#   model: the network that defines our agent\n",
        "#   observation: observation which is fed as input to the model\n",
        "# Returns:\n",
        "#   action: choice of agent action\n",
        "def choose_action(model, observation):\n",
        "  # add batch dimension to the observation\n",
        "  observation = np.expand_dims(observation, axis=0)\n",
        "\n",
        "  '''TODO: feed the observations through the model to predict the log probabilities of each possible action.'''\n",
        "  logits = model.predict(observation)\n",
        "  \n",
        "  # pass the log probabilities through a softmax to compute true probabilities\n",
        "  prob_weights = tf.nn.softmax(logits).numpy()\n",
        "  \n",
        "  '''TODO: randomly sample from the prob_weights to pick an action.\n",
        "  Hint: carefully consider the dimensionality of the input probabilities (vector) and the output action (scalar)'''\n",
        "  action = np.random.choice(n_actions, size=1, p=prob_weights[0])[0]  # prob_weights[0] or prob_weights.flatten() because of the (unused) batch dimension\n",
        "\n",
        "  return action"
      ],
      "execution_count": 26,
      "outputs": []
    },
    {
      "cell_type": "markdown",
      "metadata": {
        "id": "_tR9uAWcTnkr"
      },
      "source": [
        "## 3.2 Define the agent's memory\n",
        "\n",
        "Now that we have instantiated the environment and defined the agent network architecture and action function, we are ready to move on to the next step in our RL workflow:\n",
        "1. **Initialize our environment and our agent**: here we will describe the different observations and actions the agent can make in the environment.\n",
        "2. **Define our agent's memory**: this will enable the agent to remember its past actions, observations, and rewards.\n",
        "3. **Define the learning algorithm**: this will be used to reinforce the agent's good behaviors and discourage bad behaviors.\n",
        "\n",
        "In reinforcement learning, training occurs alongside the agent's acting in the environment; an *episode* refers to a sequence of actions that ends in some terminal state, such as the pole falling down or the cart crashing. The agent will need to remember all of its observations and actions, such that once an episode ends, it can learn to \"reinforce\" the good actions and punish the undesirable actions via training. Our first step is to define a simple memory buffer that contains the agent's observations, actions, and received rewards from a given episode. \n",
        "\n",
        "**Once again, note the modularity of this memory buffer -- it can and will be applied to other RL tasks as well!**"
      ]
    },
    {
      "cell_type": "code",
      "metadata": {
        "id": "8MM6JwXVQ4JG"
      },
      "source": [
        "### Agent Memory ###\n",
        "\n",
        "class Memory:\n",
        "  def __init__(self): \n",
        "      self.clear()\n",
        "\n",
        "  # Resets/restarts the memory buffer\n",
        "  def clear(self): \n",
        "      self.observations = []\n",
        "      self.actions = []\n",
        "      self.rewards = []\n",
        "\n",
        "  # Add observations, actions, rewards to memory\n",
        "  def add_to_memory(self, new_observation, new_action, new_reward): \n",
        "      self.observations.append(new_observation)\n",
        "      self.actions.append(new_action)  # TODO: your update code here\n",
        "      self.rewards.append(new_reward)  # TODO: your update code here\n",
        "        \n",
        "memory = Memory()"
      ],
      "execution_count": 27,
      "outputs": []
    },
    {
      "cell_type": "markdown",
      "metadata": {
        "id": "D4YhtPaUVj5m"
      },
      "source": [
        "## 3.3 Reward function\n",
        "\n",
        "We're almost ready to begin the learning algorithm for our agent! The next step is to compute the rewards of our agent as it acts in the environment. Since we (and the agent) is uncertain about if and when the game or task will end (i.e., when the pole will fall), it is useful to emphasize getting rewards **now** rather than later in the future -- this is the idea of discounting. This is a similar concept to discounting money in the case of interest. Recall from lecture, we use reward discount to give more preference at getting rewards now rather than later in the future. The idea of discounting rewards is similar to discounting money in the case of interest.\n",
        "\n",
        "To compute the expected cumulative reward, known as the **return**, at a given timestep in a learning episode, we sum the discounted rewards expected at that time step $t$, within a learning episode, and projecting into the future. We define the return (cumulative reward) at a time step $t$, $R_{t}$ as:\n",
        "\n",
        ">$R_{t}=\\sum_{k=0}^\\infty\\gamma^kr_{t+k}$\n",
        "\n",
        "where  $0 < \\gamma < 1$ is the discount factor and $r_{t}$ is the reward at time step $t$, and the index $k$ increments projection into the future within a single learning episode. Intuitively, you can think of this function as depreciating any rewards received at later time steps, which will force the agent prioritize getting rewards now. Since we can't extend episodes to infinity, in practice the computation will be limited to the number of timesteps in an episode -- after that the reward is assumed to be zero.\n",
        "\n",
        "Take note of the form of this sum -- we'll have to be clever about how we implement this function. Specifically, we'll need to initialize an array of zeros, with length of the number of time steps, and fill it with the real discounted reward values as we loop through the rewards from the episode, which will have been saved in the agents memory. What we ultimately care about is which actions are better relative to other actions taken in that episode -- so, we'll normalize our computed rewards, using the mean and standard deviation of the rewards across the learning episode.\n"
      ]
    },
    {
      "cell_type": "code",
      "metadata": {
        "id": "5_Q2OFYtQ32X"
      },
      "source": [
        "### Reward function ###\n",
        "\n",
        "# Helper function that normalizes an np.array x\n",
        "def normalize(x):\n",
        "  x -= np.mean(x)\n",
        "  x /= np.std(x)\n",
        "  return x.astype(np.float32)\n",
        "\n",
        "# Compute normalized, discounted, cumulative rewards (i.e., return)\n",
        "# Arguments:\n",
        "#   rewards: reward at timesteps in episode\n",
        "#   gamma: discounting factor\n",
        "# Returns:\n",
        "#   normalized discounted reward\n",
        "def discount_rewards(rewards, gamma=0.95): \n",
        "  discounted_rewards = np.zeros_like(rewards)\n",
        "  R = 0\n",
        "  for t in reversed(range(0, len(rewards))):\n",
        "      # update the total discounted reward\n",
        "      R = R * gamma + rewards[t]\n",
        "      discounted_rewards[t] = R\n",
        "      \n",
        "  return normalize(discounted_rewards)"
      ],
      "execution_count": 28,
      "outputs": []
    },
    {
      "cell_type": "markdown",
      "metadata": {
        "id": "QzbY-mjGYcmt"
      },
      "source": [
        "## 3.4 Learning algorithm\n",
        "\n",
        "Now we can start to define the learing algorithm which will be used to reinforce good behaviors of the agent and discourage bad behaviours. In this lab, we will focus on *policy gradient* methods which aim to **maximize** the likelihood of actions that result in large rewards. Equivalently, this means that we want to **minimize** the negative likelihood of these same actions. We achieve this by simply **scaling** the probabilities by their associated rewards -- effectively amplifying the likelihood of actions that result in large rewards.\n",
        "\n",
        "Since the log function is monotonically increasing, this means that minimizing **negative likelihood** is equivalent to minimizing **negative log-likelihood**.  Recall that we can easily compute the negative log-likelihood of a discrete action by evaluting its [softmax cross entropy](https://www.tensorflow.org/api_docs/python/tf/nn/sparse_softmax_cross_entropy_with_logits). Like in supervised learning, we can use stochastic gradient descent methods to achieve the desired minimization. \n",
        "\n",
        "Let's begin by defining the loss function."
      ]
    },
    {
      "cell_type": "code",
      "metadata": {
        "id": "fsgZ3IDCY_Zn"
      },
      "source": [
        "### Loss function ###\n",
        "\n",
        "# Arguments:\n",
        "#   logits: network's predictions for actions to take\n",
        "#   actions: the actions the agent took in an episode\n",
        "#   rewards: the rewards the agent received in an episode\n",
        "# Returns:\n",
        "#   loss\n",
        "def compute_loss(logits, actions, rewards): \n",
        "  #'''TODO: complete the function call to compute the negative log probabilities'''\n",
        "  neg_logprob = tf.nn.sparse_softmax_cross_entropy_with_logits(logits=logits, labels=actions)\n",
        "  \n",
        "  #'''TODO: scale the negative log probability by the rewards'''\n",
        "  loss = tf.reduce_mean(neg_logprob * rewards)\n",
        "  return loss"
      ],
      "execution_count": 29,
      "outputs": []
    },
    {
      "cell_type": "markdown",
      "metadata": {
        "id": "Rr5vQ9fqbPpp"
      },
      "source": [
        "Now let's use the loss function to define a training step of our learning algorithm:"
      ]
    },
    {
      "cell_type": "code",
      "metadata": {
        "id": "_50ada7nbZ7L"
      },
      "source": [
        "### Training step (forward and backpropagation) ###\n",
        "\n",
        "def train_step(model, optimizer, observations, actions, discounted_rewards):\n",
        "  with tf.GradientTape() as tape:\n",
        "      # Forward propagate through the agent network\n",
        "      logits = model(observations)\n",
        "\n",
        "      # '''TODO: call the compute_loss function to compute the loss'''\n",
        "      loss = compute_loss(logits, actions, discounted_rewards)\n",
        "\n",
        "  # '''TODO: run backpropagation to minimize the loss using the tape.gradient method.\n",
        "  #    Use `model.trainable_variables`'''\n",
        "  grads = tape.gradient(loss, model.trainable_variables)\n",
        "  optimizer.apply_gradients(zip(grads, model.trainable_variables))  # CHECKME: this only takes one step towards minimal loss, right?\n"
      ],
      "execution_count": 30,
      "outputs": []
    },
    {
      "cell_type": "markdown",
      "metadata": {
        "id": "XsjKXh6BcgjR"
      },
      "source": [
        "## 3.5 Run cartpole!\n",
        "\n",
        "Having had no prior knowledge of the environment, the agent will begin to learn how to balance the pole on the cart based only on the feedback received from the environment! Having defined how our agent can move, how it takes in new observations, and how it updates its state, we'll see how it gradually learns a policy of actions to optimize balancing the pole as long as possible. To do this, we'll track how the rewards evolve as a function of training -- how should the rewards change as training progresses?"
      ]
    },
    {
      "cell_type": "code",
      "metadata": {
        "id": "XmOzc2rrcn8Q",
        "colab": {
          "base_uri": "https://localhost:8080/",
          "height": 541
        },
        "outputId": "9aff5f5b-5889-4c60-854d-03cd9019e8b6"
      },
      "source": [
        "### Cartpole training! ###\n",
        "\n",
        "# Learning rate and optimizer\n",
        "learning_rate = 1e-3\n",
        "optimizer = tf.keras.optimizers.Adam(learning_rate)\n",
        "\n",
        "# instantiate cartpole agent\n",
        "cartpole_model = create_cartpole_model()\n",
        "\n",
        "# to track our progress\n",
        "smoothed_reward = mdl.util.LossHistory(smoothing_factor=0.9)\n",
        "plotter = mdl.util.PeriodicPlotter(sec=2, xlabel='Iterations', ylabel='Rewards')\n",
        "\n",
        "if hasattr(tqdm, '_instances'): tqdm._instances.clear() # clear if it exists\n",
        "for i_episode in range(500):\n",
        "\n",
        "  plotter.plot(smoothed_reward.get())\n",
        "\n",
        "  # Restart the environment\n",
        "  observation = env.reset()\n",
        "  memory.clear()\n",
        "\n",
        "  while True:\n",
        "      # using our observation, choose an action and take it in the environment\n",
        "      action = choose_action(cartpole_model, observation)\n",
        "      next_observation, reward, done, info = env.step(action)\n",
        "      # add to memory\n",
        "      memory.add_to_memory(observation, action, reward)\n",
        "      \n",
        "      # is the episode over? did you crash or do so well that you're done?\n",
        "      if done:\n",
        "          # determine total reward and keep a record of this\n",
        "          total_reward = sum(memory.rewards)\n",
        "          smoothed_reward.append(total_reward)\n",
        "          \n",
        "          # initiate training - remember we don't know anything about how the \n",
        "          #   agent is doing until it has crashed!\n",
        "          train_step(cartpole_model, optimizer, \n",
        "                     observations=np.vstack(memory.observations),\n",
        "                     actions=np.array(memory.actions),\n",
        "                     discounted_rewards = discount_rewards(memory.rewards))\n",
        "          \n",
        "          # reset the memory\n",
        "          memory.clear()\n",
        "          break\n",
        "      # update our observatons\n",
        "      observation = next_observation"
      ],
      "execution_count": 31,
      "outputs": [
        {
          "output_type": "display_data",
          "data": {
            "image/png": "[encoded data removed]",
            "text/plain": [
              "<Figure size 432x288 with 1 Axes>"
            ]
          },
          "metadata": {
            "tags": []
          }
        },
        {
          "output_type": "display_data",
          "data": {
            "image/png": "[encoded data removed]",
            "text/plain": [
              "<Figure size 432x288 with 1 Axes>"
            ]
          },
          "metadata": {
            "tags": [],
            "needs_background": "light"
          }
        }
      ]
    },
    {
      "cell_type": "markdown",
      "metadata": {
        "id": "mkcUtGF1VE-K"
      },
      "source": [
        "To get a sense of how our agent did, we can save a video of the trained model working on balancing the pole. Realize that this is a brand new environment that the agent has not seen before!\n",
        "\n",
        "Let's display the saved video to watch how our agent did!\n"
      ]
    },
    {
      "cell_type": "code",
      "metadata": {
        "id": "PAYBkv6Zbk0J",
        "colab": {
          "base_uri": "https://localhost:8080/",
          "height": 188
        },
        "outputId": "7517a4a7-945c-4943-d3f8-a39e122ea751"
      },
      "source": [
        "saved_cartpole = mdl.lab3.save_video_of_model(cartpole_model, \"CartPole-v0\")\n",
        "mdl.lab3.play_video(saved_cartpole)"
      ],
      "execution_count": 32,
      "outputs": [
        {
          "output_type": "stream",
          "text": [
            "Successfully saved 121 frames into CartPole-v0.mp4!\n"
          ],
          "name": "stdout"
        },
        {
          "output_type": "execute_result",
          "data": {
            "text/html": [
              "\n",
              "        <video controls>\n",
              "            <source src=\"data:video/mp4;base64,AAAAIGZ0eXBpc29tAAACAGlzb21pc28yYXZjMW1wNDEAAAAIZnJlZQAALQVtZGF0AAACrQYF//+p3EXpvebZSLeWLNgg2SPu73gyNjQgLSBjb3JlIDE1MiByMjg1NCBlOWE1OTAzIC0gSC4yNjQvTVBFRy00IEFWQyBjb2RlYyAtIENvcHlsZWZ0IDIwMDMtMjAxNyAtIGh0dHA6Ly93d3cudmlkZW9sYW4ub3JnL3gyNjQuaHRtbCAtIG9wdGlvbnM6IGNhYmFjPTEgcmVmPTMgZGVibG9jaz0xOjA6MCBhbmFseXNlPTB4MToweDExMSBtZT1oZXggc3VibWU9NyBwc3k9MSBwc3lfcmQ9MS4wMDowLjAwIG1peGVkX3JlZj0xIG1lX3JhbmdlPTE2IGNocm9tYV9tZT0xIHRyZWxsaXM9MSA4eDhkY3Q9MCBjcW09MCBkZWFkem9uZT0yMSwxMSBmYXN0X3Bza2lwPTEgY2hyb21hX3FwX29mZnNldD00IHRocmVhZHM9MyBsb29rYWhlYWRfdGhyZWFkcz0xIHNsaWNlZF90aHJlYWRzPTAgbnI9MCBkZWNpbWF0ZT0xIGludGVybGFjZWQ9MCBibHVyYXlfY29tcGF0PTAgY29uc3RyYWluZWRfaW50cmE9MCBiZnJhbWVzPTMgYl9weXJhbWlkPTIgYl9hZGFwdD0xIGJfYmlhcz0wIGRpcmVjdD0xIHdlaWdodGI9MSBvcGVuX2dvcD0wIHdlaWdodHA9MiBrZXlpbnQ9MjUwIGtleWludF9taW49MjUgc2NlbmVjdXQ9NDAgaW50cmFfcmVmcmVzaD0wIHJjX2xvb2thaGVhZD00MCByYz1jcmYgbWJ0cmVlPTEgY3JmPTIzLjAgcWNvbXA9MC42MCBxcG1pbj0wIHFwbWF4PTY5IHFwc3RlcD00IGlwX3JhdGlvPTEuNDAgYXE9MToxLjAwAIAAAAICZYiEADv//vb8/AptFl7/LZ/+iL/lb+9P2a61uFE7M7QacwPQAAADAAADAAADAAAjQ+qT+e/gphQJpan+7xpsKAAAAwAAAwAApWgAAQZcHCmGj4LeQfpCY0NmiVdj/wPHzAfEP1w5TSOQKR+u0VQDPOOcVu6bSeailKn12xnDBv384Rd/iVOTJTSwhQAT+ihltE1IzNdRndgEug4982Zet2bAwg7jCjEYNI8fU/gDIIAqOheFcCH9vgzWn/TYcGr04CLxj4gAAAMABAcC+RqFD3DeCABmZmBJWa6kzvftUcBxSHSZqKAH7JAvC6+HzlXACozDJIMk7RkFNLTaXyfhSD1D8CXiwRQMBynvYNsaXAvJG3qsIQucV9dHUEeM0l9gK35The0+RU6Af3/7C72ZlCEGINgfqKajC6AU9eCdhVMSqMWZf3F4gYChGfHjRJlvWUdhaQl5nR7MeJA8BUQaER6pck0AaM7m4+buwPPmZrDBWizray91yP04Bc+ZUgjI8OkEtGfQKssq45BPxQQGabG0SASsWf7SOuWa9qsIXBmUnwamH/B7TZyiiSjO7uPT0AACEhoDvvAKAjBEBVwLPXzXWbXtqkf8ohQMBGmKcy4pXdnK/5sB7t2cq6wDTNaiksf3/H+DUYx+81eQe7nlcQfN1o8E4AAAAwAAAwAAAwCCgQAAAHxBmiNsQ7/+qZYAAAMBS5K7iW+Wd+5S7lx3CLQTEQ4vmW9JAG0WvvURn+/7yLJ5he9fDR/6A34akoVqgvEy6TJWTK0CScZWkrPjf/qKr57G/8mjn0hqnq/KHwvxGl+kuY9ogLZmZhiWJHpU+819ryDru5xH36Ia5QdgDFNAAAAAI0GeQXiFfwAAAwIL4/m4dJKyOvFNFN29dPTSvnQXmds8YS+rAAAALQGeYmpCvwAAAwILajHaaO0E3PQP9w+VJ/TgA6zHRE//nxlR1zDh1OdujP1QQAAAAGNBmmdJqEFomUwId//+qZYAAAkBXDK2RUAX5CHlGgIrfsZ//5tqD7KwD/jQWqfIN0Hw2EGpfKyLXb0Vz4RunvrFIQ+1qr53S1i03xQ3dUy1nEPmp4eoHx5XJvN1O/BcVtkEGPEAAABJQZ6FRREsL/8AAArM+vSQCEAH4rMdvB1eP/6hB6SKdjmMbrPEMxVqovHmowtmqlhkr4/MWS67QIcdx8A7vKi+7OcsbDfwvZ+5YQAAAEYBnqR0Qr8AAAWGskQAC25ZHsqW/tkpaRNHZZ5mP2FnCdBMjBPzmFaiRoX8kQ6zIwpQWDJaicZ7CnmllTKqCCyx/hsdw6jLAAAAGwGepmpCvwAADoArdBwUCgeJ9BtdshSk18xunwAAAHBBmqtJqEFsmUwIb//+p4QAABHUESsT9kWr4gGqPN5a8574qDh9Hj+XUqFyiAOUpgjBWFAuQwu0wrILjvD++Mm/DUmXirRI7KGkyaa0VjiKcvQYJ4BgsLJINifhVEzGHMAOk1Xi2cqNvcAidMgXg2S8AAAAL0GeyUUVLC//AAAKyyA2iEQA3NZ0qoAUX+VcV763HsMLrhU9wW6vrNCLwL3VStQQAAAAFgGe6HRCvwAADn8K26j5aUtoc38U2oMAAAASAZ7qakK/AAAOKD2ghrrsVVBAAAAAdkGa70moQWyZTAhv//6nhAAAEdWgPoK4CVALUgM5bIYAOpiO864/wb0tX7dzENyFQ1hv9bB4n/XJbxKLzq5XEFk164ebr0f7/Whccq/msGCWOlhikelebRz+0be3TRMSnYQ25+/3KC3ZJRJELV/P4ibMpP15oRwAAABEQZ8NRRUsL/8AAArMvR1Hfv9ACVHZpJJF///5tKyteXwFZNAzQ+R2T5mSryaiNvXzTJfhvBdCHHeYnBmOLkxcjlYs2bEAAAAwAZ8sdEK/AAAOfwi6gVd1cqs+a5IYAB1eguSTy0ycxZMkiD3uLv4lcR3oSi8YlVtvAAAAHgGfLmpCvwAABYmtukcPiqB5PY5HjDwAO4jn/HZswQAAADJBmzBJqEFsmUwIb//+p4QAABHVB0VCi8zkWuMxRzS+0e4/cE85w6y8qooaqHVpvf38/wAAACxBm1FJ4QpSZTAh3/6plgAAAwFL54/tsXM6JcbeWEZ7MkqgLWsuqyuNwQ1xAwAAAJJBm3VJ4Q6JlMCHf/6plgAACQFcMrZFQCD13qm/6BCNw9cS+zOH1P9rb7gmwk8VRtjhWWeWyb3PXvoL0td+O0yc++PKqJDP3rpx2zTdbld834aA9gjc07RtZU+JMANax3QdMrxPrN40CvGxMN8vzboNZ4gNNTWZx41H7xc0Vy6Gl5nTj1PlbUwxQ3byeeC/Bau/ZwAAAEtBn5NFETwv/wAACssbaY+iYDRO8LfNWgo0nfci4/qZwzXo48gpTGIgFq+gBbxtKGZdPusbPli7iGVK+GaHa3RIDoHMYLwVxUo/bMAAAABEAZ+ydEK/AAAOfwi6gT2u1thhV9ngrHxo3SKhHie2gliqkfAAuMAcy6KRa1MBW1/rOukUI9DcuzdqLTU3JJQNMO2gEqAAAAA/AZ+0akK/AAAFicrIATTPZPPAfnwmJZyhB2zP4tI83uxUklw0zN1hznCBONeJdXb18h9Ons5ELWMzjguYNNsxAAAAbkGbuUmoQWiZTAh3//6plgAACQFcMrL77GBxVqCUfp9fwwlDHnwFnes2W4ZgjdgndwOHNWACt74cIQmUvhdh+eoasUmmFRGsFHyGHS1Cbg1rXq9UE1gh2N+V4e+R7ImORqhKhK/CX42TyiqmwGOAAAAANEGf10URLC//AAAKzPt5lOkouxA6DknLUrfpLharmyNtQ/Y0Iryfa1gtvgZKmNAoqddoATcAAAAlAZ/2dEK/AAAOJxMtESzAMvTdbYJ4TxUndWKY/Vb6QNsqg0B24QAAAEkBn/hqQr8AAA6DM+M1mZ/k9t6DoE65gm7VRDjC5Yi4pW0vgATs+auB2gizNzR8d30V2HvRrlWx/r6SAhl7wmuX+hb0q7x1jXbMAAAAQEGb/UmoQWyZTAh3//6plgAACMKJj7n6USu1GOvuUR07vZjTKV7KyqZj9letgcslN4FLszxc1f45GPM7lW/nG0EAAAA9QZ4bRRUsL/8AAAqDKNXZc/AI8TTlJ1NpcmGWIrREVduY9j4VABeuLAo8/7A41cJanno/Y9OkXwcnL8ruCwAAACABnjp0Qr8AAA4sYRPORRcotV/ij/jskBuAK9n6ts01IQAAACIBnjxqQr8AAAMCC2siKC2uw5QgnWLBJf9CYQ/Fmgsmh2zBAAAAaEGaIUmoQWyZTAh3//6plgAACQUDTUAEkKAIyjZ3eaWscXoxu7HbzU65/7bL+ymABCSQumYGR7fExaop0DntWDmem/tuDxwSxAsbRSsd43+z8lGwCBAklhs6/yd7imWHQd76IaKkayCpAAAAPkGeX0UVLC//AAAKyxtm3lhbKsmkgPV4yxnDkAOdcbmDUiuMD0fbK4qgAzsxvhBf//DpHm8ihB582gThJyN6AAAAQAGefnRCvwAADixhFl0COLl5iPLgXtyOEQxySEv6egaukIASyMXrDBXE0inFikmg+81EHv8+Fnp7oeARn9yLEqEAAAA0AZ5gakK/AAAFia24+DwgBLYUwE1l/7z9+TEPF1k5NbMlHL3bNl0a0dOvPXlRDDtcPu/RQQAAAHRBmmVJqEFsmUwId//+qZYAAAkFA01ABJCgCMpIoNTeZEx5F7eZTEZQZrpq/14zj4ebAgBnHXn7CcNj7mQ40IDR9KEjp3W7jNy+hklALGSw5U+Oo0kHp0POPHRIRwmQV0IsTfUfgH2LjvfKBf5u+rt9HbQhHQAAADxBnoNFFSwv/wAACssbai2t9FwAIRbkYA9/+f6qHZ1vjdZYB5zzlnVJe/1IwUiDzmquKajN8cd6Dy2UAJsAAAA0AZ6idEK/AAAOhIwQA3Wcgohfbd9AUzYcw9s24MwK1M1bASPLV4lOgekP+wjAAnlfqVrtuQAAADwBnqRqQr8AAAMCCybcp9CE76Xk21KQOSPJ0z1rxsACEaC6y6+3//o3Hzs/219wT0UvGCXAibLD8F1Fu2cAAABdQZqpSahBbJlMCHf//qmWAAAJAUqtQESv83mUIQA4HDLBx3cd//Tg+U0fpFcSi5bHXPRfTTPj3EiLC5Hd9hQ/q71gLcbBMfw82JW/6hbYUnm36WWFZ3x8pmM2tSFTAAAAOEGex0UVLC//AAAKypiJ+ribW815GeVQyid6ugvyGQnGgAt9j4U3/1uea1xpUCb+EIyFzBuFMufBAAAAMgGe5nRCvwAADn8IuinyTRWUAZXkZl4UfKPdOZ+4ABOsi3VbKfZ8QDq2C0/GG0pDGmDAAAAAIgGe6GpCvwAADnfywk21pYjRKnisRNmlKpqY5eelEeAziAgAAABWQZrtSahBbJlMCHf//qmWAAAJAVxa9EMG0v0EqKlyON/ssbXphPXUZvGsmAC4mUwUiLVmctCRUcrBWe3G73F98ulAxng544L2T2rGVTkm5uvheu/JOLEAAABHQZ8LRRUsL/8AAArM/5LBeu4h/WxnOCiVvlGZqgRZXl04tdLHMkd7YAOsGw8HdAAmH4Pjo9Kk8w/4JNg/ZycyDC4aRzTzgsAAAAAuAZ8qdEK/AAAFiTP9NyVJUwgJJNt3CV4gBB4Vm3ErDa/UbOIgqFDaTDO+VK0mDAAAAD4BnyxqQr8AAA6AOb3nUNaCsA6479h0tcjvvAAnELHxvty1AztNgGQbVAY1CnbkHByn0t0xKWLCcmMXfeveDQAAAIFBmzFJqEFsmUwId//+qZYAAAkBSq4RCn7Ib0PiAEK7vX0V6e71gBt6GBojoFGlM1IJvpdYXT0b/SsspAUgiW/oPU4f8/6iYHJpVWcFypxXV5RQGN04dL2wmu3VRn4fH9pUwQdc0lVkEsKiBKkYZwKJ9BHHOP/BKhVffaKhsVh4rFEAAAA7QZ9PRRUsL/8AAArMvTW1R3NTQgBCnjX5rpMNR8hEn8xsqXRbUJSBm3CvM68iqohhC7qnxhzshbSEjekAAAA3AZ9udEK/AAAOhIwQAtuDc81ZP8om3nVjjWNC08AbncPVws85CKhDKQ6Xxe1HskEdxQAaUkEkmAAAADkBn3BqQr8AAA6DOowt6VTqhoAE4hYXDK6MzQFXOIfzDlwhpURUQMcQURZWJm8BPQtA8iCPr7rqUEAAAACUQZt1SahBbJlMCHf//qmWAAAJAnziyAAsPw0rdTg6KUzLx/pEGUQvgXAlJSGfnGWapDF2wSSlftP/fuXsg3m/gmwVpT77hqPwxjtnoQ+zt0n1PvQoSnoBQ34cvZ/11oLk0tGXJVz/3Z/CZjSo2pAUGmuff6GLWvDxrbj2SNe/OS42tnxyQGXtFWGzDPnDyHt9rcBjgQAAAEFBn5NFFSwv/wAACsqYu+dCrue3MCc/3dCWRB4ABCOUmzri16WxCd0h0/z+WqKBfRboSYt8RrFmcIA4hN5zJX6nwAAAADEBn7J0Qr8AAA5UA0mvztXXp0gylCvSepiAE1ecJkqvyKWCFmfzQ0Hd4EiQTFyyOTtmAAAAMwGftGpCvwAADnvU83II7aInvGDastrVwhkgA+C8htiUbh+mfx5/PYF4bYd4tR2jZFI23QAAAHZBm7lJqEFsmUwId//+qZYAAAlBSqe6k7CNAJJ96iBWJdm510INvH6RP6uk+fdbTcOr0dRG4RbwGOt7RP+oaUJiDLFqW972qRQmDZ8fn1tcQV1iUcAtsXHJvBn3whKcLfRe4X+sNFdsdTib/r99P+3R8+NnKclgAAAAVEGf10UVLC//AAALFPkXVbHQfoIflr718ax1TCPYrD1C3EwAQi2jMMXWXn1mXc/mXf9NmXqzdUy/tUyLvF4ul/glSDkOlJTAl79NEhtE8RG89MFz4QAAAEgBn/Z0Qr8AAA6EsMAAuo6aNHKfJKXzyDEv1NMT5p44QIWOG2EVK6oPSNK77Pksqst0qu9IS3vwFN25Ubm6ybDSrRjxCp1bvTEAAAA+AZ/4akK/AAAO2zPjNLug0HFAAJnC35yiPjWA5FfP5nG9JySfIPEQxIbXrkDtF0tmrHGsqPoepECYYRM/QmAAAAC6QZv9SahBbJlMCHf//qmWAAAJQUqZjDr6jMpaEAJan8f+4GhBOetl/eHK8v42a88V0UuQfQBwESO92BIeGcFB9/ItIVf52AT4iWiu2SoI3EKxTVIr9qm5yHuuXDZyfWoElXnVPXynXMCtUjI35WxWL1me/mOaKQ7SYmeK5GtzyReq5P1K4/3Yw+KjZ/XEfcneemGENOt4Gl090Ll2N2HhqoBeHSV53oHV4lj7h0yrEq3+8lGyT5DL5ogbAAAAXEGeG0UVLC//AAALEpiXaByzahPA+daNC68HPu5Ul7cQA3NZ6F+t/KP8ibzOEKKx3gm7GacivImKSNGrqXkU+U0cPow2DMo3Zmp20Gb1gCocmY5oSZuHF/LaWdGUAAAAbAGeOnRCvwAADtxT+UySVBhdD0kUdNIA4oBKz5CwBcf/O+/4kGi+8KpmYwRkPBsHVXkW2g3g9+H1qJ/tS1e+TDwVRfE8F6D4jH3EsEMnKQCk2/tnRuuZjlK8Wa4oUZsGS1q1uPi1Fe+9/CqftwAAAEYBnjxqQr8AAA7bM+MUeRwAd5r3m6X8S0CegzywLVZQAmI2qeIRqgUE8sBypTtqvqe1dhmOTApxcfatqdC5jvn89tFqyWvdAAAAlEGaIUmoQWyZTAh3//6plgAACUJ9YpQCC5KXIgDiB34lH/x1CtutFalJ6VavI9FVrusgInAWb0VQSL/Xl8PNeT5n5pXNyRUqu+Wld/bNqNLPuQwYVeV5KTRxcjtftH9kIkpoRplxA76OgsB4hXBYcEBPzSVhITiWa3twNuoRkzICwWrpTwc3g+oIuRrbQ9Mlt7y0SIAAAABTQZ5fRRUsL/8AAAsWK1h4bYABxgE+r3e7z5Ox0RUpJQmmsb9bqLvP73Ugt2p+p+awkXZOftEG2skD7jigKRPKYlhKUGLQjgmdgKeJqOQ1NpmVpgQAAABCAZ5+dEK/AAAO1wwo5RADc1OBLs7/L/Q43rizau8yS9BhR5dnO0igJY/Wy8oSjFMC7cdEAtGR1CCRlIgmq9Iur6spAAAATwGeYGpCvwAADtrSPW0MgAHFLfU0EOh/E96hbafn4qBctTpX5/Yg5cRo87xLrYWnriTqfUR7Nl7imbPYBvhaB1RdXcNXVjdd0OBI62YcwiwAAACPQZplSahBbJlMCHf//qmWAAAJQn7qIRI30HO4fgAJmT4Uv/iJtx1XuR0cvrHhFeaX//K16V5Hsv27Vrb6KbthT9lHvXlLDZHzVgjfck/sMJBEePZVjSoCchpPIKb7LysrqojwcFndZcs2Vm3v6MV2NM1KiLl3pv/kmUehzuOBV+JuY1Xp6pKY93Dw/IGYLbMAAABCQZ6DRRUsL/8AAAsSmIo6rEAVjJQ8LP/EJcsfUmtKOdFCHV9UTuuWEnefmO4LRgJH5YolyT8Cbg+Qehc917JjJbyoAAAAMwGeonRCvwAADtaiaoWqleYwk/wdgEcmPxwtIokC7ZDXQcmg7IaZnN9oyxTjVBL7PKthlwAAAEQBnqRqQr8AAA7bMMdDiAIizdxNwn+ax3H4ZKtSDQfIiCoVErZa3NigwLRwVAh2ZmBiH2zPkcoHiNaOBTkttUh5Bp+9wQAAAGxBmqlJqEFsmUwId//+qZYAAAlBNkkQIDc/iLpaetx9STTUis+/5QvknQqCCiT55Vx5+wYgSPNFafxeI2jmlrDU9sDGhXIja4Iumzmpr422n+OKEsBAAb/5OYVUD/l+/8olb4PEx98Ppm/HBYEAAABFQZ7HRRUsL/8AAAsSdkQn0HNvfGn6q6Pq809rlwMGwx3QC9XZmWKmXUKNPyUHP4ABDfA9AQ7+CPa1piIoLbQ+wS2mnPW9AAAAQQGe5nRCvwAADtcMJ+xohdk8AAE7d1j7M3md2cumsA6LGaIEZZVMI7DBRv/55p+O04aWGOxHQNAvtCGCKmcfzL2pAAAAOAGe6GpCvwAADtd0gaW7nZlgsA31xKDDIFcF1qWXzE9Dlgi9mkyLVGedqADUQkVymv9P/9PYCq+pAAAAdUGa7UmoQWyZTAh3//6plgAACUE2SV0NIyAoZ1y/6qoAcZCJW/c/CaMte9tifESQCRw7NGueSb/NVJwRIYsqf/ZEuiko8DaVWIuvtHBMXf1Q3tilkajszxgLbib4Df0Bvt3rRJzsGnspXgPkfXVjvm6W8nNm2QAAAGlBnwtFFSwv/wAACxKZTEANwPpY69nv4V2Rkg5yZe9+7Ni7ZaBkVQyRbQ4CEuDQLnw8ndOlr58JST2hLkhdHJynbh1qAQIaMRvlNuUwZt2NMmKL7oPyiqEn8i+jjHDeLIQbY4UwCvvKdlYAAAAzAZ8qdEK/AAAO25Sw6XJIl8AQK3ya/l1x9s1xNxbgODCdxxjJpEGJO+bdGu8umxszH97gAAAAKgGfLGpCvwAADqsKY7jWzMUoUXJ9G9c3nRLgOEUYe43qzkNZfw+qHRpteQAAAIJBmzBJqEFsmUwId//+qZYAAAmBNkAQW2rLirpaD0xKYL1ThVtksgDfj2bGKWruS/aWpnQ47/h9/T1hLH39Gh97UzIxgzP4z52xCjN1r0X+QHdsEoj8bdOl/H8RAy6bItzfiDksoXASreaI1eev0ah6r5m7/0eD7pAIs8ROlST40nHbAAAAS0GfTkUVLCv/AAAPMyuFE/VhAC2s5o0K/8MshDSRVQbsxufG9jXH2Y9BcHr/Nt77rHzijxT8n81Ksz7TLCRRsXyhYqB314T8kAYVvQAAACsBn29qQr8AAA8zMKtR8hEG0tmOpRg6/9w3wGm2Qdfn4XmQ34oloId5kKbAAAAAikGbdEmoQWyZTAh3//6plgAACYKA16uAGRqAQY1uRCmeTXgMKJ7Xxb4EcFyMcgqpqJSfy8LjUFp41BLXIVVz4kpo/TOCNSa191L8JBLbts55dH3aS1Eh0onLga96Z2ipD0B26BeLXyzN0fLaaQDHQD/fpn9k45VMl5aflBDf3eDd2q2W8xXwdRQKQAAAAFFBn5JFFSwv/wAAC1yvK2D+YaiAG6NqK8lD+eiMtDOWL1msEK447Zmtfn8+WCaYjisTnSJL391izua65D8JWtKcBzHgAa5zwNESS7TcbM2Y5WEAAAAuAZ+xdEK/AAAPM5RygO1/zrCNscNtObKx60vSkBinBSRp8CMlXIVQ5e8MlJ72pAAAADkBn7NqQr8AAA8y0jaED+dTgXGQMipkP2C6aPZDDtVFMa5DFQNAautGwAIhfJlvRqudLNMmBEhjF1IAAACyQZu2SahBbJlMFEw7//6plgAACYFKoCeBeGrn3AARiaFr5XhQf0Ww0hw2xey6aLL7ozREPNof6MsnLH/31lh2z6LhcyHYzR37uioBQsatSrtK3eyryP06hQq+oM+5BWdZSM+r5e3hqbT6M0hVojyN4OCApqooJHJMqUxXW39C9uEF65s5MTshYvuX+MFXINpiO84OX2bz+AGHiDDm1bPIky56MNoLfkc/f86fVo+jteQZgQAAAC0Bn9VqQr8AAA8vdHsyMvmL8CDc0SlxrFCRobuQhRhvkJ2Auhu5k55VTk0dZvQAAABMQZvaSeEKUmUwId/+qZYAAAmBPypECA3P4sHR7LuLOQ5qyomvMr+0LQ+1Ssv+aYqHP4s8WAnzfGK7uy3fbAdHNEwd6vh2axlvk7ZHgQAAAFRBn/hFNEwv/wAACzhN6gAAth9GUGxmqpdkC/D+VUhnQlwqZzZR9kpWFvla7QF+LczrldRyZWu5tgKkgrUjMQ15c36lvUuu22RvS9KyFV8Q3gb8P+UAAAAxAZ4XdEK/AAAPK8TKEqZ5WZsZYKBQ3f8nb8PVbhGIqCWAD6ti5OwxIdCVcWRnnv9nwAAAADUBnhlqQr8AAA8C5gY+2BDHow9Csmvv7bPqgWfXOkySBdmcHcfWaJvtwitMekwrCe5dxPVpwQAAAHlBmh5JqEFomUwId//+qZYAAAnBPymuUiw1XXmljcJfzIEAP9Y3wnbPik3Fy+pWp+oeeWX3ZCyzHnA+7B9PjPAzkOXyO+XOZHISsIvRxnMN/5oA+pLSuRDR+gML1nn/+jj6P4T/05Or5yxR68qmmyvba/WZzdjGNizAAAAAQEGePEURLC//AAALpPjjdsmyRbP+CLuiGW/oDOp0lIMzxiLk+rUF763ELS/mvfXU693c54qLuim/H3Yi36CfE+EAAAAxAZ5bdEK/AAAPM5SiJvdxo+BrVccTzJ/jn4MK75sH0pVkAxVaDsKBqqVlKTV4ZHr7PwAAAEkBnl1qQr8AAA+HdFVmkiseIAHDAIzJBBCJGPPw01+EqnBBCbfh+es76uLNIYHKQPC6z0nEbZm3cGLtu6wf+7af9Exd5GG2IDZ8AAAAeEGaQkmoQWyZTAh3//6plgAACcFAtwgX5GoBaJezbRH0dwv/9Ko6jwcJH+nakajb7tQiuBM+kUIKnp0sPRu3b7WgXVd8gA/sXdL1jPy4fR+/PSqr1R+V+WEomf5/1ABS3iNT2P86MeCyemHDTVn/QxYOoG87PD4wBAAAAFlBnmBFFSwv/wAAC6JNrGZjlJeNXjzUXiE0DXCDGLPDISE3N++6L46qBoMloAABKEPKuFilSA3z+fYk/MwCmC+WYc2pcOLzwd0e4lzoWlAAkv7CG9V8jllU7QAAAE8Bnp90Qr8AAA+GmYJADjcgQV73zCMtNz+3Xo722M2M6EdyjdAUF1axU6xvfr5qpORLibkdWPisx3x9TBqx3jhXiPdKk4AdmNorr0LP6kGAAAAAPQGegWpCvwAAD4d0eleQAEWuhCJBv8KYS5IKnGx02SzUGrrEj1LhD0PvMg1DCwjATWBFyPZXIMqGFuMjxn0AAACXQZqGSahBbJlMCHf//qmWAAAJxIPs1FcQBEZP7cJcqWSd/7Hj3f95a1yyrbgXJto8/NDHl33/zNYz+QCXWEjjHB72PYfrnPas1yViWeeXwVudiv9mW3BR8Hx6FV5i1GmIsixwi8LmUIe+KlGJRPOrtG085vkeEOgUX3p6dFT4CjA0jljq6o37y+A6Lq3f0dcOxj8h5XRmSAAAAG5BnqRFFSwv/wAAC6JW+AAC3jvsD9cTa23YNcP5TRimXrH3N/h0qYUFNw3B8yb7xd2KkTp0Pw+v2X9dKl+2VKQoI7qVDb/wHYzV67tCrDoirI1Oh2004aO+QRcCSOPhXW+DHVwsL3qJ2YqHOz89lQAAADcBnsN0Qr8AAA+DvMlfJH2T2uzuA/PX8RGlTBbd0NGwn206zPYNcctUbvsi9cNEZssnIybh9/srAAAAQgGexWpCvwAAD41NJ9LyLSPtlTuTfF5aIi7gOSULyFzTYUgXTpQM8RqTDCL+ptjtjZDCdKAEt+4SWPgBcsCUdD7KgQAAAJdBmspJqEFsmUwIb//+p4QAABPcR7tgAc/ejK93KvF3/sQe52GozWJXNukNXPtQjeOEelfHCboHLyyKTJezoQ3Qv+Hm/31OQh99atEfY9CAtTeNobw946fxE3fNrnQsF96Ac3hTHbiqRrDGyluA4kVrqVLSd8VeyjcQQc7yPJUzfbf4lI9TN+tU4jb6MYhfPPrs6FvjQlTBAAAAf0Ge6EUVLC//AAAL74sLicPMQAt1Y+ItfQPxkZULa0h9nFCsUt6DaKJej3+zZR5emEDvs+hDx05xS+CxpGwsRI8oitbR51Y+wjkzqMYWRUbKYjpKHSLwLMCSOv/sLqRrveyEzJeRm6kVOhIVio3uUnyF+ShtVFO8AzUPof8ef5gAAABNAZ8HdEK/AAAP42lRAJbZ7TKpadrLo+Cufs6bS5YxKECH/4MrtPbEIOn0YkURaOy+AAOtsiWDH7gezVfd/jZVj1sRlImJk4DBlhi5sqAAAABFAZ8JakK/AAAP5U0oMANoNpUPFSEek3mJSGlmn63EEgppXV0UQ94ql8ovmoi7Jkn8c/F/yAAutFUQ7ZZB+y1RsVYupZz5AAAAd0GbC0moQWyZTAh3//6plgAACg5tigqrtuRe2JeLBkcXWE3pLD3h87evkkwjocG3IjdXcKo8g6GDEtd6kCc/jysEYZ/md7jBHwAztF2H80lpqP0/m2TTX/NEf8Mq8MxVsEI5IdSnZUIuRZ/rESOs/k50XN83byHAAAAAqkGbL0nhClJlMCG//qeEAAAUbE71BHF3xYgCI94aN9yUF/HsfQq2qFj+roH/x99+G9GxvQSdXil5xKfjNJKAyW4UoR6kaNQMUIKaFrkSOOATXIGYJRtbAmmqYoR45PPsAYQVI7GuPtKSD0KxQ9uWLOmoDDbSFeilCocjsT7MmUWHmpuT1LsYNRv2LKYAFFGhOCaHZ7K+57150vLs8sHlvZM+bSJnkoQcydeAAAAAekGfTUU0TC//AAAMQqY4VGgAOFmRVbpLGpgmN/KRvxedVbqFs+jznMgWWZpE574cv/m9qAi2C3vrLr8fshW7BRhp+mUen3U7cz+xLiVZYtLOUy3xoicEaazzSagTIWnVfcR5HoEyVZAkJAu9mVZ1om03ds/HPHXEF0HHAAAAVAGfbHRCvwAAEF8kzlzPgVF//FJqTj+lXUOjesTFfVjwYABOldPrrAj8cqnPYPOHzseXuc7qcqNqw9/ug6MNnXFLCLT1GNKfjURAjJ3phh0ibr/TuQAAADgBn25qQr8AABBg0EHlkwR2zKw455COI14uBe/p2cDJtxYODcKzBDGORTH6SpCJyKG8AB0906e8wQAAALVBm3NJqEFomUwIb//+p4QAABRw7UGtcgAF0t0VRiNaaE2Avzmeds/sgGTX/jvR2NlU8J60o7+NkW9sAsEevms+nrKkgmSD2hdL4AVWimh1wAALsdRYL8KF5ayl0Kl97jP09DMpmGb/308MGT07NTZ+NDmVy3tBqRweHLqhcoF/tqWNBQvUSTjqvyKpHReF376DC91Y9Hg2nXyGO/32gir88g5QD4vImGQcHFTsv82xh+Fr6idoAAAAe0GfkUURLC//AAAMP5tz4ADh+csEyHPznHwhWaCljOjehIqGQ0lObiA5Mh9oKfU0ZPEmgJWXR8ijUPHMfRge4hp1DRTCsIGrWAtDK4NZJ0or/T2rmZm51v85yAhSma2fkWxhpl13okQ5XuDM1ZWUoRdnSvpGt9w2DAhDwAAAAEwBn7B0Qr8AABBWiaJJ9QADjIfjkSL5hRB8lp3KiTKoBkV+LxUr3feuC/C0JEip9/1UmiH6U0MBXD5NrWevqkJmlIZ3OfLRTy4zIPlhAAAAYwGfsmpCvwAAEBzNnR8zWRAFYaiCD0v8sp4dtEi3+Yer5730+9Qfd+KaaUqKq3kxRycNHIgN0hfkWWZwJNg6lPP4zE/XSbNcX4kLxoosjfu9MvEDbRvus3qT+2A+ghOGlCJHgAAAAMdBm7dJqEFsmUwIX//+jLAAAFJqeS4RdJi2AT15Za78rz0AAcb1B96tTJ+dMsf+V22leFi2k14e3keDROQ3pM/Yf1x6F/hPOgXo9c/CH0BFUQIMcqY+H61b4P7wk884IJ7fhRLv0joyn+Ha9xH6xCQFceyACtnpVRG7sbB0kuGK0S+/Hb5LEjMxxZTXZNmKNiQ+tLXIKXRYcBflEVDPMq0jSXtKX8hn8Tds/cUVB7ETI/K90FDccqzbkLauUd8LnFnr7XF1VofEAAAAlUGf1UUVLC//AAAMj5ijd93IVRmQDA/k+d03b6rCjCD3r5SNgqE4ABO3jRAytkU8M+ACCDGm+ZYIUEFVTyCGkYvwpyBLWIqoCGDhbHOj9sbQEZTaHr+qG+3tCG7f/kMKTqwq8kjTENVnkxAcrTtTp3/h5St5sD0x8kY7twYc2Bg7sQUZxR0fvZy05scfXsOyUVZLYNbRAAAAWwGf9HRCvwAAEN8kerZwAOLsaO2UKTIdv2aM0jXLeSqfn6KurXwrhHy2jDS0SMrTag0CK/vRzgGIJW1zpchEK83liJUYeC/nxQW4l71SlIcJ6ScJQjs+nCB1qMAAAABkAZ/2akK/AAAQ2CWmpyogCIEUTMyKD1fmDtLJpmvRhRTwimLRsoiTRRxg5yovu6xvCPtpHVp8QHBii5d28dNtcygVaKG26sHvmp06UIGQI+xYrEDbr1o5KDlr43KGZdVxTEpiwQAAAG1Bm/hJqEFsmUwIV//+OEAAAT5iLS9A+v/SUsES7j57cyqgnibjNMBw5CDpTJPMOKhMDsESdexDvjeVpvlgqJMe09LwzYAF1HKzRcfauA2/CYF3mJvxvVOzjzSVqT94PVXnJPFb/xqxQUn2V0CpAAAIp21vb3YAAABsbXZoZAAAAAAAAAAAAAAAAAAAA+gAABLoAAEAAAEAAAAAAAAAAAAAAAABAAAAAAAAAAAAAAAAAAAAAQAAAAAAAAAAAAAAAAAAQAAAAAAAAAAAAAAAAAAAAAAAAAAAAAAAAAAAAAAAAAIAAAfRdHJhawAAAFx0a2hkAAAAAwAAAAAAAAAAAAAAAQAAAAAAABLoAAAAAAAAAAAAAAAAAAAAAAABAAAAAAAAAAAAAAAAAAAAAQAAAAAAAAAAAAAAAAAAQAAAAAJYAAABkAAAAAAAJGVkdHMAAAAcZWxzdAAAAAAAAAABAAAS6AAABAAAAQAAAAAHSW1kaWEAAAAgbWRoZAAAAAAAAAAAAAAAAAAAMgAAAPIAVcQAAAAAAC1oZGxyAAAAAAAAAAB2aWRlAAAAAAAAAAAAAAAAVmlkZW9IYW5kbGVyAAAABvRtaW5mAAAAFHZtaGQAAAABAAAAAAAAAAAAAAAkZGluZgAAABxkcmVmAAAAAAAAAAEAAAAMdXJsIAAAAAEAAAa0c3RibAAAAJhzdHNkAAAAAAAAAAEAAACIYXZjMQAAAAAAAAABAAAAAAAAAAAAAAAAAAAAAAJYAZAASAAAAEgAAAAAAAAAAQAAAAAAAAAAAAAAAAAAAAAAAAAAAAAAAAAAAAAAAAAAABj//wAAADJhdmNDAfQAHv/hABpn9AAekZsoEwZ8TwgAAAMACAAAAwGQeLFssAEABWjr48RIAAAAGHN0dHMAAAAAAAAAAQAAAHkAAAIAAAAAFHN0c3MAAAAAAAAAAQAAAAEAAAPAY3R0cwAAAAAAAAB2AAAAAQAABAAAAAABAAAIAAAAAAIAAAIAAAAAAQAACgAAAAABAAAEAAAAAAEAAAAAAAAAAQAAAgAAAAABAAAKAAAAAAEAAAQAAAAAAQAAAAAAAAABAAACAAAAAAEAAAoAAAAAAQAABAAAAAABAAAAAAAAAAEAAAIAAAAAAgAABAAAAAABAAAKAAAAAAEAAAQAAAAAAQAAAAAAAAABAAACAAAAAAEAAAoAAAAAAQAABAAAAAABAAAAAAAAAAEAAAIAAAAAAQAACgAAAAABAAAEAAAAAAEAAAAAAAAAAQAAAgAAAAABAAAKAAAAAAEAAAQAAAAAAQAAAAAAAAABAAACAAAAAAEAAAoAAAAAAQAABAAAAAABAAAAAAAAAAEAAAIAAAAAAQAACgAAAAABAAAEAAAAAAEAAAAAAAAAAQAAAgAAAAABAAAKAAAAAAEAAAQAAAAAAQAAAAAAAAABAAACAAAAAAEAAAoAAAAAAQAABAAAAAABAAAAAAAAAAEAAAIAAAAAAQAACgAAAAABAAAEAAAAAAEAAAAAAAAAAQAAAgAAAAABAAAKAAAAAAEAAAQAAAAAAQAAAAAAAAABAAACAAAAAAEAAAoAAAAAAQAABAAAAAABAAAAAAAAAAEAAAIAAAAAAQAACgAAAAABAAAEAAAAAAEAAAAAAAAAAQAAAgAAAAABAAAKAAAAAAEAAAQAAAAAAQAAAAAAAAABAAACAAAAAAEAAAoAAAAAAQAABAAAAAABAAAAAAAAAAEAAAIAAAAAAQAACgAAAAABAAAEAAAAAAEAAAAAAAAAAQAAAgAAAAABAAAIAAAAAAIAAAIAAAAAAQAACgAAAAABAAAEAAAAAAEAAAAAAAAAAQAAAgAAAAABAAAGAAAAAAEAAAIAAAAAAQAACgAAAAABAAAEAAAAAAEAAAAAAAAAAQAAAgAAAAABAAAKAAAAAAEAAAQAAAAAAQAAAAAAAAABAAACAAAAAAEAAAoAAAAAAQAABAAAAAABAAAAAAAAAAEAAAIAAAAAAQAACgAAAAABAAAEAAAAAAEAAAAAAAAAAQAAAgAAAAABAAAKAAAAAAEAAAQAAAAAAQAAAAAAAAABAAACAAAAAAEAAAQAAAAAAQAACgAAAAABAAAEAAAAAAEAAAAAAAAAAQAAAgAAAAABAAAKAAAAAAEAAAQAAAAAAQAAAAAAAAABAAACAAAAAAEAAAoAAAAAAQAABAAAAAABAAAAAAAAAAEAAAIAAAAAAQAABAAAAAAcc3RzYwAAAAAAAAABAAAAAQAAAHkAAAABAAAB+HN0c3oAAAAAAAAAAAAAAHkAAAS3AAAAgAAAACcAAAAxAAAAZwAAAE0AAABKAAAAHwAAAHQAAAAzAAAAGgAAABYAAAB6AAAASAAAADQAAAAiAAAANgAAADAAAACWAAAATwAAAEgAAABDAAAAcgAAADgAAAApAAAATQAAAEQAAABBAAAAJAAAACYAAABsAAAAQgAAAEQAAAA4AAAAeAAAAEAAAAA4AAAAQAAAAGEAAAA8AAAANgAAACYAAABaAAAASwAAADIAAABCAAAAhQAAAD8AAAA7AAAAPQAAAJgAAABFAAAANQAAADcAAAB6AAAAWAAAAEwAAABCAAAAvgAAAGAAAABwAAAASgAAAJgAAABXAAAARgAAAFMAAACTAAAARgAAADcAAABIAAAAcAAAAEkAAABFAAAAPAAAAHkAAABtAAAANwAAAC4AAACGAAAATwAAAC8AAACOAAAAVQAAADIAAAA9AAAAtgAAADEAAABQAAAAWAAAADUAAAA5AAAAfQAAAEQAAAA1AAAATQAAAHwAAABdAAAAUwAAAEEAAACbAAAAcgAAADsAAABGAAAAmwAAAIMAAABRAAAASQAAAHsAAACuAAAAfgAAAFgAAAA8AAAAuQAAAH8AAABQAAAAZwAAAMsAAACZAAAAXwAAAGgAAABxAAAAFHN0Y28AAAAAAAAAAQAAADAAAABidWR0YQAAAFptZXRhAAAAAAAAACFoZGxyAAAAAAAAAABtZGlyYXBwbAAAAAAAAAAAAAAAAC1pbHN0AAAAJal0b28AAAAdZGF0YQAAAAEAAAAATGF2ZjU3LjgzLjEwMA==\" type=\"video/mp4\" />\n",
              "        </video>"
            ],
            "text/plain": [
              "<IPython.core.display.HTML object>"
            ]
          },
          "metadata": {
            "tags": []
          },
          "execution_count": 32
        }
      ]
    },
    {
      "cell_type": "markdown",
      "metadata": {
        "id": "CSbVNDpaVb3_"
      },
      "source": [
        "How does the agent perform? Could you train it for shorter amounts of time and still perform well? Do you think that training longer would help even more? "
      ]
    },
    {
      "cell_type": "markdown",
      "metadata": {
        "id": "Eu6Mqxc720ST"
      },
      "source": [
        "#Part 2: Pong\n",
        "\n",
        "In Cartpole, we dealt with an environment that was static -- in other words, it didn't change over time. What happens if our environment is dynamic and unpredictable? Well that's exactly the case in [Pong](https://en.wikipedia.org/wiki/Pong), since part of the environment is the opposing player. We don't know how our opponent will act or react to our actions, so the complexity of our problem increases. It also becomes much more interesting, since we can compete to beat our opponent. RL provides a powerful framework for training AI systems with the ability to handle and interact with dynamic, unpredictable environments. In this part of the lab, we'll use the tools and workflow we explored in Part 1 to build an RL agent capable of playing the game of Pong.\n"
      ]
    },
    {
      "cell_type": "markdown",
      "metadata": {
        "id": "srZ4YE29isuA"
      },
      "source": [
        "## 3.6 Define and inspect the Pong environment\n",
        "\n",
        "As with Cartpole, we'll instantiate the Pong environment in the OpenAI gym, using a seed of 1."
      ]
    },
    {
      "cell_type": "code",
      "metadata": {
        "id": "lbYHLr66i15n"
      },
      "source": [
        "env = gym.make(\"Pong-v0\", frameskip=5)\n",
        "env.seed(1); # for reproducibility"
      ],
      "execution_count": 33,
      "outputs": []
    },
    {
      "cell_type": "markdown",
      "metadata": {
        "id": "52uZ2Xhyi-MW"
      },
      "source": [
        "Let's next consider the observation space for the Pong environment. Instead of four physical descriptors of the cart-pole setup, in the case of Pong our observations are the individual video frames (i.e., images) that depict the state of the board. Thus, the observations are 210x160 RGB images (arrays of shape (210,160,3)).\n",
        "\n",
        "We can again confirm the size of the observation space by query:"
      ]
    },
    {
      "cell_type": "code",
      "metadata": {
        "id": "0yX4GWvxjnHS",
        "colab": {
          "base_uri": "https://localhost:8080/"
        },
        "outputId": "d6600e1e-fab5-41ad-8076-8e7587433aa1"
      },
      "source": [
        "print(\"Environment has observation space =\", env.observation_space)"
      ],
      "execution_count": 34,
      "outputs": [
        {
          "output_type": "stream",
          "text": [
            "Environment has observation space = Box(0, 255, (210, 160, 3), uint8)\n"
          ],
          "name": "stdout"
        }
      ]
    },
    {
      "cell_type": "markdown",
      "metadata": {
        "id": "uuEC2TdSjx9D"
      },
      "source": [
        "In Pong, at every time step, the agent (which controls the paddle) has six actions to choose from: no-op (no operation), move right, move left, fire, fire right, and fire left. Let's confirm the size of the action space by querying the environment:"
      ]
    },
    {
      "cell_type": "code",
      "metadata": {
        "id": "Iuy9oPc1kag3",
        "colab": {
          "base_uri": "https://localhost:8080/"
        },
        "outputId": "6550eaec-5e8b-4000-8c2a-d6fd1793e1f7"
      },
      "source": [
        "n_actions = env.action_space.n\n",
        "print(\"Number of possible actions that the agent can choose from =\", n_actions)"
      ],
      "execution_count": 35,
      "outputs": [
        {
          "output_type": "stream",
          "text": [
            "Number of possible actions that the agent can choose from = 6\n"
          ],
          "name": "stdout"
        }
      ]
    },
    {
      "cell_type": "markdown",
      "metadata": {
        "id": "9-fghDRigUE5"
      },
      "source": [
        "## 3.7 Define the Pong agent\n",
        "\n",
        "As before, we'll use a neural network to define our agent. What network architecture do you think would be especially well suited to this game? Since our observations are now in the form of images, we'll add convolutional layers to the network to increase the learning capacity of our network."
      ]
    },
    {
      "cell_type": "code",
      "metadata": {
        "id": "IJiqbFYpgYRH",
        "colab": {
          "base_uri": "https://localhost:8080/",
          "height": 334
        },
        "outputId": "3880fef9-e134-4c32-ec56-81d068e742f1"
      },
      "source": [
        "### Define the Pong agent ###\n",
        "\n",
        "# Functionally define layers for convenience\n",
        "# All convolutional layers will have ReLu activation\n",
        "Conv2D = functools.partial(tf.keras.layers.Conv2D, padding='same', activation='relu')\n",
        "Flatten = tf.keras.layers.Flatten\n",
        "Dense = tf.keras.layers.Dense\n",
        "\n",
        "# Defines a CNN for the Pong agent\n",
        "def create_pong_model():\n",
        "  model = tf.keras.models.Sequential([\n",
        "    # Convolutional layers\n",
        "    # First, 16 7x7 filters with 4x4 stride\n",
        "    Conv2D(filters=16, kernel_size=7, strides=4),\n",
        "\n",
        "    # TODO: define convolutional layers with 32 5x5 filters and 2x2 stride\n",
        "    Conv2D('''TODO'''),\n",
        "\n",
        "    # TODO: define convolutional layers with 48 3x3 filters and 2x2 stride\n",
        "    Conv2D('''TODO'''),\n",
        "\n",
        "    Flatten(),\n",
        "    \n",
        "    # Fully connected layer and output\n",
        "    Dense(units=64, activation='relu'),\n",
        "    # TODO: define the output dimension of the last Dense layer. \n",
        "    # Pay attention to the space the agent needs to act in\n",
        "    Dense('''TODO''')\n",
        "  \n",
        "  ])\n",
        "  return model\n",
        "\n",
        "pong_model = create_pong_model()"
      ],
      "execution_count": 36,
      "outputs": [
        {
          "output_type": "error",
          "ename": "TypeError",
          "evalue": "ignored",
          "traceback": [
            "\u001b[0;31m---------------------------------------------------------------------------\u001b[0m",
            "\u001b[0;31mTypeError\u001b[0m                                 Traceback (most recent call last)",
            "\u001b[0;32m<ipython-input-36-8f1ba629f0bf>\u001b[0m in \u001b[0;36m<module>\u001b[0;34m()\u001b[0m\n\u001b[1;32m     31\u001b[0m   \u001b[0;32mreturn\u001b[0m \u001b[0mmodel\u001b[0m\u001b[0;34m\u001b[0m\u001b[0;34m\u001b[0m\u001b[0m\n\u001b[1;32m     32\u001b[0m \u001b[0;34m\u001b[0m\u001b[0m\n\u001b[0;32m---> 33\u001b[0;31m \u001b[0mpong_model\u001b[0m \u001b[0;34m=\u001b[0m \u001b[0mcreate_pong_model\u001b[0m\u001b[0;34m(\u001b[0m\u001b[0;34m)\u001b[0m\u001b[0;34m\u001b[0m\u001b[0;34m\u001b[0m\u001b[0m\n\u001b[0m",
            "\u001b[0;32m<ipython-input-36-8f1ba629f0bf>\u001b[0m in \u001b[0;36mcreate_pong_model\u001b[0;34m()\u001b[0m\n\u001b[1;32m     15\u001b[0m \u001b[0;34m\u001b[0m\u001b[0m\n\u001b[1;32m     16\u001b[0m     \u001b[0;31m# TODO: define convolutional layers with 32 5x5 filters and 2x2 stride\u001b[0m\u001b[0;34m\u001b[0m\u001b[0;34m\u001b[0m\u001b[0;34m\u001b[0m\u001b[0m\n\u001b[0;32m---> 17\u001b[0;31m     \u001b[0mConv2D\u001b[0m\u001b[0;34m(\u001b[0m\u001b[0;34m'''TODO'''\u001b[0m\u001b[0;34m)\u001b[0m\u001b[0;34m,\u001b[0m\u001b[0;34m\u001b[0m\u001b[0;34m\u001b[0m\u001b[0m\n\u001b[0m\u001b[1;32m     18\u001b[0m \u001b[0;34m\u001b[0m\u001b[0m\n\u001b[1;32m     19\u001b[0m     \u001b[0;31m# TODO: define convolutional layers with 48 3x3 filters and 2x2 stride\u001b[0m\u001b[0;34m\u001b[0m\u001b[0;34m\u001b[0m\u001b[0;34m\u001b[0m\u001b[0m\n",
            "\u001b[0;31mTypeError\u001b[0m: __init__() missing 1 required positional argument: 'kernel_size'"
          ]
        }
      ]
    },
    {
      "cell_type": "markdown",
      "metadata": {
        "id": "yaeZ067olFiJ"
      },
      "source": [
        "Since we've already defined the action function, `choose_action(model, observation)`, we don't need to define it again. Instead, we'll be able to reuse it later on by passing in our new model we've just created, `pong_model`. This is awesome because our action function provides a modular and generalizable method for all sorts of RL agents!"
      ]
    },
    {
      "cell_type": "markdown",
      "metadata": {
        "id": "l0RvqOVkmc2r"
      },
      "source": [
        "## 3.8 Pong-specific functions\n",
        "\n",
        "In Part 1 (Cartpole), we implemented some key functions and classes to build and train our RL agent -- `choose_action(model, observation)` and the `Memory` class, for example. However, in getting ready to apply these to a new game like Pong, we might need to make some slight modifications. \n",
        "\n",
        "Namely, we need to think about what happens when a game ends. In Pong, we know a game has ended if the reward is +1 (we won!) or -1 (we lost unfortunately). Otherwise, we expect the reward at a timestep to be zero -- the players (or agents) are just playing eachother. So, after a game ends, we will need to reset the reward to zero when a game ends. This will result in a modified reward function."
      ]
    },
    {
      "cell_type": "code",
      "metadata": {
        "id": "iEZG2o50luLu"
      },
      "source": [
        "### Pong reward function ###\n",
        "\n",
        "# Compute normalized, discounted rewards for Pong (i.e., return)\n",
        "# Arguments:\n",
        "#   rewards: reward at timesteps in episode\n",
        "#   gamma: discounting factor. Note increase to 0.99 -- rate of depreciation will be slower.\n",
        "# Returns:\n",
        "#   normalized discounted reward\n",
        "def discount_rewards(rewards, gamma=0.99): \n",
        "  discounted_rewards = np.zeros_like(rewards)\n",
        "  R = 0\n",
        "  for t in reversed(range(0, len(rewards))):\n",
        "      # NEW: Reset the sum if the reward is not 0 (the game has ended!)\n",
        "      if rewards[t] != 0:\n",
        "        R = 0\n",
        "      # update the total discounted reward as before\n",
        "      R = R * gamma + rewards[t]\n",
        "      discounted_rewards[t] = R\n",
        "      \n",
        "  return normalize(discounted_rewards)"
      ],
      "execution_count": null,
      "outputs": []
    },
    {
      "cell_type": "markdown",
      "metadata": {
        "id": "HopLpb4IoOqA"
      },
      "source": [
        "Additionally, we have to consider the nature of the observations in the Pong environment, and how they will be fed into our network. Our observations in this case are images. Before we input an image into our network, we'll do a bit of pre-processing to crop and scale, clean up the background colors to a single color, and set the important game elements to a single color. Let's use this function to visualize what an observation might look like before and after pre-processing."
      ]
    },
    {
      "cell_type": "code",
      "metadata": {
        "id": "no5IIYtFm8pI"
      },
      "source": [
        "observation = env.reset()\n",
        "for i in range(30):\n",
        "  observation, _,_,_ = env.step(0)\n",
        "observation_pp = mdl.lab3.preprocess_pong(observation)\n",
        "\n",
        "f = plt.figure(figsize=(10,3))\n",
        "ax = f.add_subplot(121)\n",
        "ax2 = f.add_subplot(122)\n",
        "ax.imshow(observation); ax.grid(False);\n",
        "ax2.imshow(np.squeeze(observation_pp)); ax2.grid(False); plt.title('Preprocessed Observation');"
      ],
      "execution_count": null,
      "outputs": []
    },
    {
      "cell_type": "markdown",
      "metadata": {
        "id": "bYwIWC-Cz8F2"
      },
      "source": [
        "What do you notice? How might these changes be important for training our RL algorithm?"
      ]
    },
    {
      "cell_type": "markdown",
      "metadata": {
        "id": "mRqcaDQ1pm3x"
      },
      "source": [
        "## 3.9 Training Pong\n",
        "\n",
        "We're now all set up to start training our RL algorithm and agent for the game of Pong! We've already defined our loss function with `compute_loss`, which employs policy gradient learning, as well as our backpropagation step with `train_step` which is beautiful! We will use these functions to execute training the Pong agent. Let's walk through the training block.\n",
        "\n",
        "In Pong, rather than feeding our network one image at a time, it can actually improve performance to input the difference between two consecutive observations, which really gives us information about the movement between frames -- how the game is changing. We'll first pre-process the raw observation, `x`, and then we'll compute the difference with the image frame we saw one timestep before. \n",
        "\n",
        "This observation change will be forward propagated through our Pong agent, the CNN network model, which will then predict the next action to take based on this observation. The raw reward will be computed, and the observation, action, and reward will be recorded into memory. This will continue until a training episode, i.e., a game, ends.\n",
        "\n",
        "Then, we will compute the discounted rewards, and use this information to execute a training step. Memory will be cleared, and we will do it all over again!\n",
        "\n",
        "Let's run the code block to train our Pong agent. Note that completing training will take quite a bit of time (estimated at least a couple of hours). We will again visualize the evolution of the total reward as a function of training to get a sense of how the agent is learning."
      ]
    },
    {
      "cell_type": "code",
      "metadata": {
        "id": "xCwyQQrPnkZG"
      },
      "source": [
        "### Training Pong ###\n",
        "\n",
        "# Hyperparameters\n",
        "learning_rate=1e-4\n",
        "MAX_ITERS = 10000 # increase the maximum number of episodes, since Pong is more complex!\n",
        "\n",
        "# Model and optimizer\n",
        "pong_model = create_pong_model()\n",
        "optimizer = tf.keras.optimizers.Adam(learning_rate)\n",
        "\n",
        "# plotting\n",
        "smoothed_reward = mdl.util.LossHistory(smoothing_factor=0.9)\n",
        "plotter = mdl.util.PeriodicPlotter(sec=5, xlabel='Iterations', ylabel='Rewards')\n",
        "memory = Memory()\n",
        "\n",
        "for i_episode in range(MAX_ITERS):\n",
        "\n",
        "  plotter.plot(smoothed_reward.get())\n",
        "\n",
        "  # Restart the environment\n",
        "  observation = env.reset()\n",
        "  previous_frame = mdl.lab3.preprocess_pong(observation)\n",
        "\n",
        "  while True:\n",
        "      # Pre-process image \n",
        "      current_frame = mdl.lab3.preprocess_pong(observation)\n",
        "      \n",
        "      '''TODO: determine the observation change\n",
        "      Hint: this is the difference between the past two frames'''\n",
        "      obs_change = # TODO\n",
        "      \n",
        "      '''TODO: choose an action for the pong model, using the frame difference, and evaluate'''\n",
        "      action = # TODO\n",
        "      # Take the chosen action\n",
        "      next_observation, reward, done, info = env.step(action)\n",
        "\n",
        "      '''TODO: save the observed frame difference, the action that was taken, and the resulting reward!'''\n",
        "      memory.add_to_memory('''TODO''', '''TODO''', '''TODO''')\n",
        "      \n",
        "      # is the episode over? did you crash or do so well that you're done?\n",
        "      if done:\n",
        "          # determine total reward and keep a record of this\n",
        "          total_reward = sum(memory.rewards)\n",
        "          smoothed_reward.append( total_reward )\n",
        "\n",
        "          # begin training\n",
        "          train_step(pong_model, \n",
        "                     optimizer, \n",
        "                     observations = np.stack(memory.observations, 0), \n",
        "                     actions = np.array(memory.actions),\n",
        "                     discounted_rewards = discount_rewards(memory.rewards))\n",
        "          \n",
        "          memory.clear()\n",
        "          break\n",
        "\n",
        "      observation = next_observation\n",
        "      previous_frame = current_frame"
      ],
      "execution_count": null,
      "outputs": []
    },
    {
      "cell_type": "markdown",
      "metadata": {
        "id": "8LiEY5Y_ts-Z"
      },
      "source": [
        "Finally we can put our trained agent to the test! It will play in a newly instantiated Pong environment against the \"computer\", a base AI system for Pong. Your agent plays as the green paddle. Let's watch the match instant replay!"
      ]
    },
    {
      "cell_type": "code",
      "metadata": {
        "id": "TvHXbkL0tR6M"
      },
      "source": [
        "saved_pong = mdl.lab3.save_video_of_model(\n",
        "    pong_model, \"Pong-v0\", obs_diff=True, \n",
        "    pp_fn=mdl.lab3.preprocess_pong)\n",
        "mdl.lab3.play_video(saved_pong)"
      ],
      "execution_count": null,
      "outputs": []
    },
    {
      "cell_type": "markdown",
      "metadata": {
        "id": "TIlwIgBP3Js6"
      },
      "source": [
        "## 3.10 Conclusion\n",
        "\n",
        "That's it! Congratulations on training two RL agents and putting them to the test! We encourage you to consider the following:\n",
        "\n",
        "*   How does the agent perform?\n",
        "*   Could you train it for shorter amounts of time  and still perform well?\n",
        "*   Do you think that training longer would help even more? \n",
        "* How does the complexity of Pong relative to Cartpole alter the rate at which the agent learns and its performance? \n",
        "* What are some things you could change about the agent or the learning process to potentially improve performance?\n",
        "\n",
        "If you want to go further, try to optimize your model to achieve the best performance! **[Email us](mailto:introtodeeplearning-staff@mit.edu) a copy of your notebook with the Pong training executed AND a saved video of your Pong agent competing! We'll give out prizes to the best performers!**"
      ]
    }
  ]
}